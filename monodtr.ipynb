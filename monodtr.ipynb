{
 "cells": [
  {
   "cell_type": "code",
   "execution_count": 1,
   "id": "92e850fa",
   "metadata": {
    "_cell_guid": "b1076dfc-b9ad-4769-8c92-a6c4dae69d19",
    "_uuid": "8f2839f25d086af736a60e9eeb907d3b93b6e0e5",
    "execution": {
     "iopub.execute_input": "2025-04-08T14:35:42.656176Z",
     "iopub.status.busy": "2025-04-08T14:35:42.655881Z",
     "iopub.status.idle": "2025-04-08T14:35:43.658004Z",
     "shell.execute_reply": "2025-04-08T14:35:43.657095Z"
    },
    "papermill": {
     "duration": 1.009435,
     "end_time": "2025-04-08T14:35:43.660215",
     "exception": false,
     "start_time": "2025-04-08T14:35:42.650780",
     "status": "completed"
    },
    "tags": []
   },
   "outputs": [
    {
     "name": "stdout",
     "output_type": "stream",
     "text": [
      "/kaggle/input/monodtr-original-library/MonoDTR/requirement.txt\n",
      "/kaggle/input/monodtr-original-library/MonoDTR/INSTALL.md\n",
      "/kaggle/input/monodtr-original-library/MonoDTR/LICENSE\n",
      "/kaggle/input/monodtr-original-library/MonoDTR/README.md\n",
      "/kaggle/input/monodtr-original-library/MonoDTR/DATA.md\n",
      "/kaggle/input/monodtr-original-library/MonoDTR/make.sh\n",
      "/kaggle/input/monodtr-original-library/MonoDTR/config/config.py\n",
      "/kaggle/input/monodtr-original-library/MonoDTR/scripts/train.py\n",
      "/kaggle/input/monodtr-original-library/MonoDTR/scripts/imdb_precompute_3d.py\n",
      "/kaggle/input/monodtr-original-library/MonoDTR/scripts/eval.py\n",
      "/kaggle/input/monodtr-original-library/MonoDTR/scripts/_path_init.py\n",
      "/kaggle/input/monodtr-original-library/MonoDTR/scripts/imdb_precompute_test.py\n",
      "/kaggle/input/monodtr-original-library/MonoDTR/scripts/depth_gt_compute.py\n",
      "/kaggle/input/monodtr-original-library/MonoDTR/visualDet3D/__init__.py\n",
      "/kaggle/input/monodtr-original-library/MonoDTR/visualDet3D/utils/readme.md\n",
      "/kaggle/input/monodtr-original-library/MonoDTR/visualDet3D/utils/utils.py\n",
      "/kaggle/input/monodtr-original-library/MonoDTR/visualDet3D/utils/timer.py\n",
      "/kaggle/input/monodtr-original-library/MonoDTR/visualDet3D/utils/__init__.py\n",
      "/kaggle/input/monodtr-original-library/MonoDTR/visualDet3D/evaluator/__init__.py\n",
      "/kaggle/input/monodtr-original-library/MonoDTR/visualDet3D/evaluator/__main__.py\n",
      "/kaggle/input/monodtr-original-library/MonoDTR/visualDet3D/evaluator/kitti/evaluate.py\n",
      "/kaggle/input/monodtr-original-library/MonoDTR/visualDet3D/evaluator/kitti/rotate_iou.py\n",
      "/kaggle/input/monodtr-original-library/MonoDTR/visualDet3D/evaluator/kitti/LICENSE\n",
      "/kaggle/input/monodtr-original-library/MonoDTR/visualDet3D/evaluator/kitti/README.md\n",
      "/kaggle/input/monodtr-original-library/MonoDTR/visualDet3D/evaluator/kitti/eval.py\n",
      "/kaggle/input/monodtr-original-library/MonoDTR/visualDet3D/evaluator/kitti/__init__.py\n",
      "/kaggle/input/monodtr-original-library/MonoDTR/visualDet3D/evaluator/kitti/kitti_common.py\n",
      "/kaggle/input/monodtr-original-library/MonoDTR/visualDet3D/networks/readme.md\n",
      "/kaggle/input/monodtr-original-library/MonoDTR/visualDet3D/networks/__init__.py\n",
      "/kaggle/input/monodtr-original-library/MonoDTR/visualDet3D/networks/utils/registry.py\n",
      "/kaggle/input/monodtr-original-library/MonoDTR/visualDet3D/networks/utils/utils.py\n",
      "/kaggle/input/monodtr-original-library/MonoDTR/visualDet3D/networks/utils/__init__.py\n",
      "/kaggle/input/monodtr-original-library/MonoDTR/visualDet3D/networks/lib/blocks.py\n",
      "/kaggle/input/monodtr-original-library/MonoDTR/visualDet3D/networks/lib/__init__.py\n",
      "/kaggle/input/monodtr-original-library/MonoDTR/visualDet3D/networks/lib/fast_utils/bbox3d.py\n",
      "/kaggle/input/monodtr-original-library/MonoDTR/visualDet3D/networks/lib/fast_utils/hill_climbing.py\n",
      "/kaggle/input/monodtr-original-library/MonoDTR/visualDet3D/networks/lib/fast_utils/bbox2d.py\n",
      "/kaggle/input/monodtr-original-library/MonoDTR/visualDet3D/networks/lib/fast_utils/__init__.py\n",
      "/kaggle/input/monodtr-original-library/MonoDTR/visualDet3D/networks/lib/ops/__init__.py\n",
      "/kaggle/input/monodtr-original-library/MonoDTR/visualDet3D/networks/lib/ops/dcn/deform_conv.py\n",
      "/kaggle/input/monodtr-original-library/MonoDTR/visualDet3D/networks/lib/ops/dcn/make.sh\n",
      "/kaggle/input/monodtr-original-library/MonoDTR/visualDet3D/networks/lib/ops/dcn/__init__.py\n",
      "/kaggle/input/monodtr-original-library/MonoDTR/visualDet3D/networks/lib/ops/dcn/setup.py\n",
      "/kaggle/input/monodtr-original-library/MonoDTR/visualDet3D/networks/lib/ops/dcn/src/deform_conv_ext.cpp\n",
      "/kaggle/input/monodtr-original-library/MonoDTR/visualDet3D/networks/lib/ops/dcn/src/cuda/deform_conv_cuda_kernel.cu\n",
      "/kaggle/input/monodtr-original-library/MonoDTR/visualDet3D/networks/lib/ops/dcn/src/cuda/deform_conv_cuda.cpp\n",
      "/kaggle/input/monodtr-original-library/MonoDTR/visualDet3D/networks/lib/ops/iou3d/iou3d.py\n",
      "/kaggle/input/monodtr-original-library/MonoDTR/visualDet3D/networks/lib/ops/iou3d/make.sh\n",
      "/kaggle/input/monodtr-original-library/MonoDTR/visualDet3D/networks/lib/ops/iou3d/__init__.py\n",
      "/kaggle/input/monodtr-original-library/MonoDTR/visualDet3D/networks/lib/ops/iou3d/setup.py\n",
      "/kaggle/input/monodtr-original-library/MonoDTR/visualDet3D/networks/lib/ops/iou3d/src/iou3d.cpp\n",
      "/kaggle/input/monodtr-original-library/MonoDTR/visualDet3D/networks/lib/ops/iou3d/src/iou3d_kernel.cu\n",
      "/kaggle/input/monodtr-original-library/MonoDTR/visualDet3D/networks/lib/optimizers/schedulers.py\n",
      "/kaggle/input/monodtr-original-library/MonoDTR/visualDet3D/networks/lib/optimizers/optimizers.py\n",
      "/kaggle/input/monodtr-original-library/MonoDTR/visualDet3D/networks/lib/optimizers/__init__.py\n",
      "/kaggle/input/monodtr-original-library/MonoDTR/visualDet3D/networks/heads/losses.py\n",
      "/kaggle/input/monodtr-original-library/MonoDTR/visualDet3D/networks/heads/detection_3d_head.py\n",
      "/kaggle/input/monodtr-original-library/MonoDTR/visualDet3D/networks/heads/anchors.py\n",
      "/kaggle/input/monodtr-original-library/MonoDTR/visualDet3D/networks/heads/__init__.py\n",
      "/kaggle/input/monodtr-original-library/MonoDTR/visualDet3D/networks/heads/depth_losses.py\n",
      "/kaggle/input/monodtr-original-library/MonoDTR/visualDet3D/networks/detectors/dtr.py\n",
      "/kaggle/input/monodtr-original-library/MonoDTR/visualDet3D/networks/detectors/monodtr_detector.py\n",
      "/kaggle/input/monodtr-original-library/MonoDTR/visualDet3D/networks/detectors/dfe.py\n",
      "/kaggle/input/monodtr-original-library/MonoDTR/visualDet3D/networks/detectors/dpe.py\n",
      "/kaggle/input/monodtr-original-library/MonoDTR/visualDet3D/networks/detectors/__init__.py\n",
      "/kaggle/input/monodtr-original-library/MonoDTR/visualDet3D/networks/detectors/monodtr_core.py\n",
      "/kaggle/input/monodtr-original-library/MonoDTR/visualDet3D/networks/pipelines/trainers.py\n",
      "/kaggle/input/monodtr-original-library/MonoDTR/visualDet3D/networks/pipelines/evaluators.py\n",
      "/kaggle/input/monodtr-original-library/MonoDTR/visualDet3D/networks/pipelines/testers.py\n",
      "/kaggle/input/monodtr-original-library/MonoDTR/visualDet3D/networks/pipelines/__init__.py\n",
      "/kaggle/input/monodtr-original-library/MonoDTR/visualDet3D/networks/backbones/dlaup.py\n",
      "/kaggle/input/monodtr-original-library/MonoDTR/visualDet3D/networks/backbones/__init__.py\n",
      "/kaggle/input/monodtr-original-library/MonoDTR/visualDet3D/networks/backbones/dla.py\n",
      "/kaggle/input/monodtr-original-library/MonoDTR/visualDet3D/networks/optimizers/schedulers.py\n",
      "/kaggle/input/monodtr-original-library/MonoDTR/visualDet3D/networks/optimizers/optimizers.py\n",
      "/kaggle/input/monodtr-original-library/MonoDTR/visualDet3D/networks/optimizers/__init__.py\n",
      "/kaggle/input/monodtr-original-library/MonoDTR/visualDet3D/data/readme.md\n",
      "/kaggle/input/monodtr-original-library/MonoDTR/visualDet3D/data/__init__.py\n",
      "/kaggle/input/monodtr-original-library/MonoDTR/visualDet3D/data/kitti/kittidata.py\n",
      "/kaggle/input/monodtr-original-library/MonoDTR/visualDet3D/data/kitti/utils.py\n",
      "/kaggle/input/monodtr-original-library/MonoDTR/visualDet3D/data/kitti/__init__.py\n",
      "/kaggle/input/monodtr-original-library/MonoDTR/visualDet3D/data/kitti/dataset/mono_dataset.py\n",
      "/kaggle/input/monodtr-original-library/MonoDTR/visualDet3D/data/kitti/dataset/utils.py\n",
      "/kaggle/input/monodtr-original-library/MonoDTR/visualDet3D/data/kitti/dataset/__init__.py\n",
      "/kaggle/input/monodtr-original-library/MonoDTR/visualDet3D/data/kitti/chen_split/val.txt\n",
      "/kaggle/input/monodtr-original-library/MonoDTR/visualDet3D/data/kitti/chen_split/train.txt\n",
      "/kaggle/input/monodtr-original-library/MonoDTR/visualDet3D/data/kitti/test_split/val.txt\n",
      "/kaggle/input/monodtr-original-library/MonoDTR/visualDet3D/data/kitti/test_split/train.txt\n",
      "/kaggle/input/monodtr-original-library/MonoDTR/visualDet3D/data/kitti/debug_split/val.txt\n",
      "/kaggle/input/monodtr-original-library/MonoDTR/visualDet3D/data/kitti/debug_split/train.txt\n",
      "/kaggle/input/monodtr-original-library/MonoDTR/visualDet3D/data/pipeline/augmentation_builder.py\n",
      "/kaggle/input/monodtr-original-library/MonoDTR/visualDet3D/data/pipeline/stereo_augmentator.py\n",
      "/kaggle/input/monodtr-original-library/MonoDTR/visualDet3D/data/pipeline/__init__.py\n",
      "/kaggle/input/monodtr-original-library/MonoDTR/resources/example.jpg\n",
      "/kaggle/input/monodtr-original-library/MonoDTR/launchers/train.sh\n",
      "/kaggle/input/monodtr-original-library/MonoDTR/launchers/eval.sh\n",
      "/kaggle/input/monodtr-original-library/MonoDTR/launchers/det_precompute.sh\n"
     ]
    }
   ],
   "source": [
    "# This Python 3 environment comes with many helpful analytics libraries installed\n",
    "# It is defined by the kaggle/python Docker image: https://github.com/kaggle/docker-python\n",
    "# For example, here's several helpful packages to load\n",
    "\n",
    "import numpy as np # linear algebra\n",
    "import pandas as pd # data processing, CSV file I/O (e.g. pd.read_csv)\n",
    "\n",
    "# Input data files are available in the read-only \"../input/\" directory\n",
    "# For example, running this (by clicking run or pressing Shift+Enter) will list all files under the input directory\n",
    "\n",
    "import os\n",
    "for dirname, _, filenames in os.walk('/kaggle/input'):\n",
    "    for filename in filenames:\n",
    "        print(os.path.join(dirname, filename))\n",
    "\n",
    "# You can write up to 20GB to the current directory (/kaggle/working/) that gets preserved as output when you create a version using \"Save & Run All\" \n",
    "# You can also write temporary files to /kaggle/temp/, but they won't be saved outside of the current session"
   ]
  },
  {
   "cell_type": "code",
   "execution_count": 2,
   "id": "ad7b09f6",
   "metadata": {
    "execution": {
     "iopub.execute_input": "2025-04-08T14:35:43.668317Z",
     "iopub.status.busy": "2025-04-08T14:35:43.667898Z",
     "iopub.status.idle": "2025-04-08T14:35:44.229679Z",
     "shell.execute_reply": "2025-04-08T14:35:44.228609Z"
    },
    "papermill": {
     "duration": 0.567347,
     "end_time": "2025-04-08T14:35:44.231371",
     "exception": false,
     "start_time": "2025-04-08T14:35:43.664024",
     "status": "completed"
    },
    "tags": []
   },
   "outputs": [],
   "source": [
    "!mkdir -p /kaggle/working/MonoDTR\n",
    "!cp -r /kaggle/input/monodtr-original-library/MonoDTR /kaggle/working/MonoDTR"
   ]
  },
  {
   "cell_type": "code",
   "execution_count": 3,
   "id": "d50a6dc1",
   "metadata": {
    "execution": {
     "iopub.execute_input": "2025-04-08T14:35:44.239690Z",
     "iopub.status.busy": "2025-04-08T14:35:44.239341Z",
     "iopub.status.idle": "2025-04-08T14:35:44.243081Z",
     "shell.execute_reply": "2025-04-08T14:35:44.242376Z"
    },
    "papermill": {
     "duration": 0.009248,
     "end_time": "2025-04-08T14:35:44.244426",
     "exception": false,
     "start_time": "2025-04-08T14:35:44.235178",
     "status": "completed"
    },
    "tags": []
   },
   "outputs": [],
   "source": [
    "import sys\n",
    "sys.path.append(\"/kaggle/working/MonoDTR/MonoDTR\")  # Add parent directory  # Add parent directory"
   ]
  },
  {
   "cell_type": "code",
   "execution_count": 4,
   "id": "29837d06",
   "metadata": {
    "execution": {
     "iopub.execute_input": "2025-04-08T14:35:44.252128Z",
     "iopub.status.busy": "2025-04-08T14:35:44.251871Z",
     "iopub.status.idle": "2025-04-08T14:35:44.395655Z",
     "shell.execute_reply": "2025-04-08T14:35:44.394591Z"
    },
    "papermill": {
     "duration": 0.149574,
     "end_time": "2025-04-08T14:35:44.397463",
     "exception": false,
     "start_time": "2025-04-08T14:35:44.247889",
     "status": "completed"
    },
    "tags": []
   },
   "outputs": [
    {
     "name": "stdout",
     "output_type": "stream",
     "text": [
      "total 44\r\n",
      "drwxr-xr-x 2 root root 4096 Apr  8 14:35 config\r\n",
      "-rw-r--r-- 1 root root  709 Apr  8 14:35 DATA.md\r\n",
      "-rw-r--r-- 1 root root  840 Apr  8 14:35 INSTALL.md\r\n",
      "drwxr-xr-x 2 root root 4096 Apr  8 14:35 launchers\r\n",
      "-rw-r--r-- 1 root root 1072 Apr  8 14:35 LICENSE\r\n",
      "-rw-r--r-- 1 root root  764 Apr  8 14:35 make.sh\r\n",
      "-rw-r--r-- 1 root root 2055 Apr  8 14:35 README.md\r\n",
      "-rw-r--r-- 1 root root  131 Apr  8 14:35 requirement.txt\r\n",
      "drwxr-xr-x 2 root root 4096 Apr  8 14:35 resources\r\n",
      "drwxr-xr-x 2 root root 4096 Apr  8 14:35 scripts\r\n",
      "drwxr-xr-x 6 root root 4096 Apr  8 14:35 visualDet3D\r\n"
     ]
    }
   ],
   "source": [
    "!ls -l /kaggle/working/MonoDTR/MonoDTR"
   ]
  },
  {
   "cell_type": "code",
   "execution_count": 5,
   "id": "c0965001",
   "metadata": {
    "execution": {
     "iopub.execute_input": "2025-04-08T14:35:44.405709Z",
     "iopub.status.busy": "2025-04-08T14:35:44.405357Z",
     "iopub.status.idle": "2025-04-08T14:35:44.526478Z",
     "shell.execute_reply": "2025-04-08T14:35:44.525345Z"
    },
    "papermill": {
     "duration": 0.126997,
     "end_time": "2025-04-08T14:35:44.528156",
     "exception": false,
     "start_time": "2025-04-08T14:35:44.401159",
     "status": "completed"
    },
    "tags": []
   },
   "outputs": [
    {
     "name": "stdout",
     "output_type": "stream",
     "text": [
      "#!/bin/bash\r\n",
      "set -e\r\n",
      "#CUDA_PATH=$(whereis cuda | cut -d ' ' -f 2) #cuda: /usr/local/cuda -> /usr/local/cuda\r\n",
      "#CUDA_VER=$(cat $CUDA_PATH/version.txt | cut -d ' ' -f 3)\r\n",
      "TORCH_VER=$(python3 -c \"import torch;print(torch.__version__)\")\r\n",
      "CUDA_VER=$(python3 -c \"import torch;print(torch.version.cuda)\")\r\n",
      "\r\n",
      "if [[ $CUDA_VER < \"10.0\" || $TORCH_VER < '1.3' ]] ; then \r\n",
      "    echo \"The current version of pytorch/cuda is $TORCH_VER/$CUDA_VER which could be not compatible with deformable convolution, we will not compile DCN for now. As long as you do not init DCN instance in code, the code will run fine.\"\r\n",
      "else\r\n",
      "    pushd visualDet3D/networks/lib/ops/dcn\r\n",
      "    sh make.sh\r\n",
      "    rm -r build\r\n",
      "    popd\r\n",
      "\r\n",
      "    pushd visualDet3D/networks/lib/ops/iou3d\r\n",
      "    sh make.sh\r\n",
      "    rm -r build\r\n",
      "    popd\r\n",
      "fi\r\n"
     ]
    }
   ],
   "source": [
    "!cat /kaggle/working/MonoDTR/MonoDTR/make.sh"
   ]
  },
  {
   "cell_type": "code",
   "execution_count": 6,
   "id": "e93ec3b9",
   "metadata": {
    "execution": {
     "iopub.execute_input": "2025-04-08T14:35:44.536333Z",
     "iopub.status.busy": "2025-04-08T14:35:44.536075Z",
     "iopub.status.idle": "2025-04-08T14:35:44.540647Z",
     "shell.execute_reply": "2025-04-08T14:35:44.539960Z"
    },
    "papermill": {
     "duration": 0.010171,
     "end_time": "2025-04-08T14:35:44.541906",
     "exception": false,
     "start_time": "2025-04-08T14:35:44.531735",
     "status": "completed"
    },
    "tags": []
   },
   "outputs": [],
   "source": [
    "# Create the modified make.sh file in a writable directory\n",
    "with open('/kaggle/working/MonoDTR/MonoDTR/make.sh', 'w') as file:\n",
    "    file.write(\"\"\"#!/bin/bash\n",
    "set -e\n",
    "TORCH_VER=$(python3 -c \"import torch;print(torch.__version__)\")\n",
    "CUDA_VER=$(python3 -c \"import torch;print(torch.version.cuda)\")\n",
    "\n",
    "if [[ $CUDA_VER < \"10.0\" || $TORCH_VER < '1.3' ]] ; then \n",
    "    echo \"The current version of pytorch/cuda is $TORCH_VER/$CUDA_VER which could be not compatible with deformable convolution, we will not compile DCN for now. As long as you do not init DCN instance in code, the code will run fine.\"\n",
    "else\n",
    "    pushd /kaggle/working/MonoDTR/MonoDTR/visualDet3D/networks/lib/ops/dcn\n",
    "    sh make.sh /kaggle/working/build_dcn\n",
    "    rm -r build\n",
    "    popd\n",
    "\n",
    "    pushd /kaggle/working/MonoDTR/MonoDTR/visualDet3D/networks/lib/ops/iou3d\n",
    "    sh make.sh /kaggle/working/build_iou3d\n",
    "    rm -r build\n",
    "    popd\n",
    "fi\n",
    "\"\"\")"
   ]
  },
  {
   "cell_type": "code",
   "execution_count": 7,
   "id": "7d3c2d9e",
   "metadata": {
    "execution": {
     "iopub.execute_input": "2025-04-08T14:35:44.549774Z",
     "iopub.status.busy": "2025-04-08T14:35:44.549528Z",
     "iopub.status.idle": "2025-04-08T14:35:44.667958Z",
     "shell.execute_reply": "2025-04-08T14:35:44.666824Z"
    },
    "papermill": {
     "duration": 0.124004,
     "end_time": "2025-04-08T14:35:44.669798",
     "exception": false,
     "start_time": "2025-04-08T14:35:44.545794",
     "status": "completed"
    },
    "tags": []
   },
   "outputs": [
    {
     "name": "stdout",
     "output_type": "stream",
     "text": [
      "#!/bin/bash\r\n",
      "set -e\r\n",
      "TORCH_VER=$(python3 -c \"import torch;print(torch.__version__)\")\r\n",
      "CUDA_VER=$(python3 -c \"import torch;print(torch.version.cuda)\")\r\n",
      "\r\n",
      "if [[ $CUDA_VER < \"10.0\" || $TORCH_VER < '1.3' ]] ; then \r\n",
      "    echo \"The current version of pytorch/cuda is $TORCH_VER/$CUDA_VER which could be not compatible with deformable convolution, we will not compile DCN for now. As long as you do not init DCN instance in code, the code will run fine.\"\r\n",
      "else\r\n",
      "    pushd /kaggle/working/MonoDTR/MonoDTR/visualDet3D/networks/lib/ops/dcn\r\n",
      "    sh make.sh /kaggle/working/build_dcn\r\n",
      "    rm -r build\r\n",
      "    popd\r\n",
      "\r\n",
      "    pushd /kaggle/working/MonoDTR/MonoDTR/visualDet3D/networks/lib/ops/iou3d\r\n",
      "    sh make.sh /kaggle/working/build_iou3d\r\n",
      "    rm -r build\r\n",
      "    popd\r\n",
      "fi\r\n"
     ]
    }
   ],
   "source": [
    "!cat /kaggle/working/MonoDTR/MonoDTR/make.sh"
   ]
  },
  {
   "cell_type": "code",
   "execution_count": 8,
   "id": "4890cfbb",
   "metadata": {
    "execution": {
     "iopub.execute_input": "2025-04-08T14:35:44.678144Z",
     "iopub.status.busy": "2025-04-08T14:35:44.677870Z",
     "iopub.status.idle": "2025-04-08T14:37:17.157076Z",
     "shell.execute_reply": "2025-04-08T14:37:17.156002Z"
    },
    "papermill": {
     "duration": 92.485041,
     "end_time": "2025-04-08T14:37:17.158659",
     "exception": false,
     "start_time": "2025-04-08T14:35:44.673618",
     "status": "completed"
    },
    "tags": []
   },
   "outputs": [
    {
     "name": "stdout",
     "output_type": "stream",
     "text": [
      "chmod: cannot access 'kaggle/working/MonoDTR/MonoDTR/make.sh': No such file or directory\r\n",
      "/kaggle/working/MonoDTR/MonoDTR/visualDet3D/networks/lib/ops/dcn /kaggle/working\r\n",
      "/usr/local/lib/python3.10/dist-packages/torch/utils/cpp_extension.py:416: UserWarning: The detected CUDA version (12.2) has a minor version mismatch with the version that was used to compile PyTorch (12.1). Most likely this shouldn't be a problem.\r\n",
      "  warnings.warn(CUDA_MISMATCH_WARN.format(cuda_str_version, torch.version.cuda))\r\n",
      "/usr/local/lib/python3.10/dist-packages/torch/utils/cpp_extension.py:426: UserWarning: There are no x86_64-linux-gnu-g++ version bounds defined for CUDA version 12.2\r\n",
      "  warnings.warn(f'There are no {compiler_name} version bounds defined for CUDA version {cuda_str_version}')\r\n",
      "/usr/local/lib/python3.10/dist-packages/torch/utils/cpp_extension.py:1964: UserWarning: TORCH_CUDA_ARCH_LIST is not set, all archs for visible cards are included for compilation. \r\n",
      "If this is not desired, please set os.environ['TORCH_CUDA_ARCH_LIST'].\r\n",
      "  warnings.warn(\r\n",
      "Emitting ninja build file /kaggle/working/MonoDTR/MonoDTR/visualDet3D/networks/lib/ops/dcn/build/temp.linux-x86_64-cpython-310/build.ninja...\r\n",
      "Compiling objects...\r\n",
      "Allowing ninja to set a default number of workers... (overridable by setting the environment variable MAX_JOBS=N)\r\n",
      "[1/3] /usr/local/cuda/bin/nvcc --generate-dependencies-with-compile --dependency-output /kaggle/working/MonoDTR/MonoDTR/visualDet3D/networks/lib/ops/dcn/build/temp.linux-x86_64-cpython-310/src/cuda/deform_conv_cuda_kernel.o.d -DWITH_CUDA -I/usr/local/lib/python3.10/dist-packages/torch/include -I/usr/local/lib/python3.10/dist-packages/torch/include/torch/csrc/api/include -I/usr/local/lib/python3.10/dist-packages/torch/include/TH -I/usr/local/lib/python3.10/dist-packages/torch/include/THC -I/usr/local/cuda/include -I/usr/include/python3.10 -c -c /kaggle/working/MonoDTR/MonoDTR/visualDet3D/networks/lib/ops/dcn/src/cuda/deform_conv_cuda_kernel.cu -o /kaggle/working/MonoDTR/MonoDTR/visualDet3D/networks/lib/ops/dcn/build/temp.linux-x86_64-cpython-310/src/cuda/deform_conv_cuda_kernel.o -D__CUDA_NO_HALF_OPERATORS__ -D__CUDA_NO_HALF_CONVERSIONS__ -D__CUDA_NO_BFLOAT16_CONVERSIONS__ -D__CUDA_NO_HALF2_OPERATORS__ --expt-relaxed-constexpr --compiler-options ''\"'\"'-fPIC'\"'\"'' -D__CUDA_NO_HALF_OPERATORS__ -D__CUDA_NO_HALF_CONVERSIONS__ -D__CUDA_NO_HALF2_OPERATORS__ -DTORCH_API_INCLUDE_EXTENSION_H '-DPYBIND11_COMPILER_TYPE=\"_gcc\"' '-DPYBIND11_STDLIB=\"_libstdcpp\"' '-DPYBIND11_BUILD_ABI=\"_cxxabi1011\"' -DTORCH_EXTENSION_NAME=deform_conv_ext -D_GLIBCXX_USE_CXX11_ABI=0 -gencode=arch=compute_60,code=compute_60 -gencode=arch=compute_60,code=sm_60 -std=c++17\r\n",
      "[2/3] c++ -MMD -MF /kaggle/working/MonoDTR/MonoDTR/visualDet3D/networks/lib/ops/dcn/build/temp.linux-x86_64-cpython-310/src/deform_conv_ext.o.d -Wno-unused-result -Wsign-compare -DNDEBUG -g -fwrapv -O2 -Wall -g -fstack-protector-strong -Wformat -Werror=format-security -g -fwrapv -O2 -I/usr/local/cuda/include -fPIC -DWITH_CUDA -I/usr/local/lib/python3.10/dist-packages/torch/include -I/usr/local/lib/python3.10/dist-packages/torch/include/torch/csrc/api/include -I/usr/local/lib/python3.10/dist-packages/torch/include/TH -I/usr/local/lib/python3.10/dist-packages/torch/include/THC -I/usr/local/cuda/include -I/usr/include/python3.10 -c -c /kaggle/working/MonoDTR/MonoDTR/visualDet3D/networks/lib/ops/dcn/src/deform_conv_ext.cpp -o /kaggle/working/MonoDTR/MonoDTR/visualDet3D/networks/lib/ops/dcn/build/temp.linux-x86_64-cpython-310/src/deform_conv_ext.o -DTORCH_API_INCLUDE_EXTENSION_H '-DPYBIND11_COMPILER_TYPE=\"_gcc\"' '-DPYBIND11_STDLIB=\"_libstdcpp\"' '-DPYBIND11_BUILD_ABI=\"_cxxabi1011\"' -DTORCH_EXTENSION_NAME=deform_conv_ext -D_GLIBCXX_USE_CXX11_ABI=0 -std=c++17\r\n",
      "[3/3] c++ -MMD -MF /kaggle/working/MonoDTR/MonoDTR/visualDet3D/networks/lib/ops/dcn/build/temp.linux-x86_64-cpython-310/src/cuda/deform_conv_cuda.o.d -Wno-unused-result -Wsign-compare -DNDEBUG -g -fwrapv -O2 -Wall -g -fstack-protector-strong -Wformat -Werror=format-security -g -fwrapv -O2 -I/usr/local/cuda/include -fPIC -DWITH_CUDA -I/usr/local/lib/python3.10/dist-packages/torch/include -I/usr/local/lib/python3.10/dist-packages/torch/include/torch/csrc/api/include -I/usr/local/lib/python3.10/dist-packages/torch/include/TH -I/usr/local/lib/python3.10/dist-packages/torch/include/THC -I/usr/local/cuda/include -I/usr/include/python3.10 -c -c /kaggle/working/MonoDTR/MonoDTR/visualDet3D/networks/lib/ops/dcn/src/cuda/deform_conv_cuda.cpp -o /kaggle/working/MonoDTR/MonoDTR/visualDet3D/networks/lib/ops/dcn/build/temp.linux-x86_64-cpython-310/src/cuda/deform_conv_cuda.o -DTORCH_API_INCLUDE_EXTENSION_H '-DPYBIND11_COMPILER_TYPE=\"_gcc\"' '-DPYBIND11_STDLIB=\"_libstdcpp\"' '-DPYBIND11_BUILD_ABI=\"_cxxabi1011\"' -DTORCH_EXTENSION_NAME=deform_conv_ext -D_GLIBCXX_USE_CXX11_ABI=0 -std=c++17\r\n",
      "/kaggle/working\r\n",
      "/kaggle/working/MonoDTR/MonoDTR/visualDet3D/networks/lib/ops/iou3d /kaggle/working\r\n",
      "/usr/local/lib/python3.10/dist-packages/torch/utils/cpp_extension.py:416: UserWarning: The detected CUDA version (12.2) has a minor version mismatch with the version that was used to compile PyTorch (12.1). Most likely this shouldn't be a problem.\r\n",
      "  warnings.warn(CUDA_MISMATCH_WARN.format(cuda_str_version, torch.version.cuda))\r\n",
      "/usr/local/lib/python3.10/dist-packages/torch/utils/cpp_extension.py:426: UserWarning: There are no x86_64-linux-gnu-g++ version bounds defined for CUDA version 12.2\r\n",
      "  warnings.warn(f'There are no {compiler_name} version bounds defined for CUDA version {cuda_str_version}')\r\n",
      "/usr/local/lib/python3.10/dist-packages/torch/utils/cpp_extension.py:1964: UserWarning: TORCH_CUDA_ARCH_LIST is not set, all archs for visible cards are included for compilation. \r\n",
      "If this is not desired, please set os.environ['TORCH_CUDA_ARCH_LIST'].\r\n",
      "  warnings.warn(\r\n",
      "Emitting ninja build file /kaggle/working/MonoDTR/MonoDTR/visualDet3D/networks/lib/ops/iou3d/build/temp.linux-x86_64-cpython-310/build.ninja...\r\n",
      "Compiling objects...\r\n",
      "Allowing ninja to set a default number of workers... (overridable by setting the environment variable MAX_JOBS=N)\r\n",
      "[1/2] /usr/local/cuda/bin/nvcc --generate-dependencies-with-compile --dependency-output /kaggle/working/MonoDTR/MonoDTR/visualDet3D/networks/lib/ops/iou3d/build/temp.linux-x86_64-cpython-310/src/iou3d_kernel.o.d -DWITH_CUDA -I/usr/local/lib/python3.10/dist-packages/torch/include -I/usr/local/lib/python3.10/dist-packages/torch/include/torch/csrc/api/include -I/usr/local/lib/python3.10/dist-packages/torch/include/TH -I/usr/local/lib/python3.10/dist-packages/torch/include/THC -I/usr/local/cuda/include -I/usr/include/python3.10 -c -c /kaggle/working/MonoDTR/MonoDTR/visualDet3D/networks/lib/ops/iou3d/src/iou3d_kernel.cu -o /kaggle/working/MonoDTR/MonoDTR/visualDet3D/networks/lib/ops/iou3d/build/temp.linux-x86_64-cpython-310/src/iou3d_kernel.o -D__CUDA_NO_HALF_OPERATORS__ -D__CUDA_NO_HALF_CONVERSIONS__ -D__CUDA_NO_BFLOAT16_CONVERSIONS__ -D__CUDA_NO_HALF2_OPERATORS__ --expt-relaxed-constexpr --compiler-options ''\"'\"'-fPIC'\"'\"'' -D__CUDA_NO_HALF_OPERATORS__ -D__CUDA_NO_HALF_CONVERSIONS__ -D__CUDA_NO_HALF2_OPERATORS__ -DTORCH_API_INCLUDE_EXTENSION_H '-DPYBIND11_COMPILER_TYPE=\"_gcc\"' '-DPYBIND11_STDLIB=\"_libstdcpp\"' '-DPYBIND11_BUILD_ABI=\"_cxxabi1011\"' -DTORCH_EXTENSION_NAME=iou3d_cuda -D_GLIBCXX_USE_CXX11_ABI=0 -gencode=arch=compute_60,code=compute_60 -gencode=arch=compute_60,code=sm_60 -std=c++17\r\n",
      "[2/2] c++ -MMD -MF /kaggle/working/MonoDTR/MonoDTR/visualDet3D/networks/lib/ops/iou3d/build/temp.linux-x86_64-cpython-310/src/iou3d.o.d -Wno-unused-result -Wsign-compare -DNDEBUG -g -fwrapv -O2 -Wall -g -fstack-protector-strong -Wformat -Werror=format-security -g -fwrapv -O2 -fopenmp -I/usr/local/cuda/include -fPIC -DWITH_CUDA -I/usr/local/lib/python3.10/dist-packages/torch/include -I/usr/local/lib/python3.10/dist-packages/torch/include/torch/csrc/api/include -I/usr/local/lib/python3.10/dist-packages/torch/include/TH -I/usr/local/lib/python3.10/dist-packages/torch/include/THC -I/usr/local/cuda/include -I/usr/include/python3.10 -c -c /kaggle/working/MonoDTR/MonoDTR/visualDet3D/networks/lib/ops/iou3d/src/iou3d.cpp -o /kaggle/working/MonoDTR/MonoDTR/visualDet3D/networks/lib/ops/iou3d/build/temp.linux-x86_64-cpython-310/src/iou3d.o -DTORCH_API_INCLUDE_EXTENSION_H '-DPYBIND11_COMPILER_TYPE=\"_gcc\"' '-DPYBIND11_STDLIB=\"_libstdcpp\"' '-DPYBIND11_BUILD_ABI=\"_cxxabi1011\"' -DTORCH_EXTENSION_NAME=iou3d_cuda -D_GLIBCXX_USE_CXX11_ABI=0 -std=c++17\r\n",
      "/kaggle/working\r\n"
     ]
    }
   ],
   "source": [
    "# Make the script executable\n",
    "!chmod +x kaggle/working/MonoDTR/MonoDTR/make.sh\n",
    "\n",
    "# Run the modified script\n",
    "!bash /kaggle/working/MonoDTR/MonoDTR/make.sh"
   ]
  },
  {
   "cell_type": "code",
   "execution_count": 9,
   "id": "5e2f8086",
   "metadata": {
    "execution": {
     "iopub.execute_input": "2025-04-08T14:37:17.168318Z",
     "iopub.status.busy": "2025-04-08T14:37:17.168041Z",
     "iopub.status.idle": "2025-04-08T14:37:17.288650Z",
     "shell.execute_reply": "2025-04-08T14:37:17.287628Z"
    },
    "papermill": {
     "duration": 0.127241,
     "end_time": "2025-04-08T14:37:17.290379",
     "exception": false,
     "start_time": "2025-04-08T14:37:17.163138",
     "status": "completed"
    },
    "tags": []
   },
   "outputs": [
    {
     "name": "stdout",
     "output_type": "stream",
     "text": [
      "total 14360\r\n",
      "-rwxr-xr-x 1 root root 14667088 Apr  8 14:36 deform_conv_ext.cpython-310-x86_64-linux-gnu.so\r\n",
      "-rw-r--r-- 1 root root    20379 Apr  8 14:35 deform_conv.py\r\n",
      "-rw-r--r-- 1 root root        0 Apr  8 14:35 __init__.py\r\n",
      "-rw-r--r-- 1 root root      391 Apr  8 14:35 make.sh\r\n",
      "-rw-r--r-- 1 root root     6447 Apr  8 14:35 setup.py\r\n",
      "drwxr-xr-x 3 root root     4096 Apr  8 14:35 src\r\n"
     ]
    }
   ],
   "source": [
    "!ls -l /kaggle/working/MonoDTR/MonoDTR/visualDet3D/networks/lib/ops/dcn"
   ]
  },
  {
   "cell_type": "code",
   "execution_count": 10,
   "id": "a7aebb9c",
   "metadata": {
    "execution": {
     "iopub.execute_input": "2025-04-08T14:37:17.300573Z",
     "iopub.status.busy": "2025-04-08T14:37:17.300218Z",
     "iopub.status.idle": "2025-04-08T14:37:17.305974Z",
     "shell.execute_reply": "2025-04-08T14:37:17.305237Z"
    },
    "papermill": {
     "duration": 0.011994,
     "end_time": "2025-04-08T14:37:17.307154",
     "exception": false,
     "start_time": "2025-04-08T14:37:17.295160",
     "status": "completed"
    },
    "tags": []
   },
   "outputs": [
    {
     "name": "stdout",
     "output_type": "stream",
     "text": [
      "Module found at: /kaggle/working/MonoDTR/MonoDTR/visualDet3D/__init__.py\n"
     ]
    }
   ],
   "source": [
    "import importlib.util\n",
    "\n",
    "spec = importlib.util.find_spec(\"visualDet3D\")\n",
    "print(\"Module found at:\", spec.origin if spec else \"Not found\")"
   ]
  },
  {
   "cell_type": "code",
   "execution_count": 11,
   "id": "62dc732a",
   "metadata": {
    "execution": {
     "iopub.execute_input": "2025-04-08T14:37:17.316283Z",
     "iopub.status.busy": "2025-04-08T14:37:17.316077Z",
     "iopub.status.idle": "2025-04-08T14:37:17.321018Z",
     "shell.execute_reply": "2025-04-08T14:37:17.320341Z"
    },
    "papermill": {
     "duration": 0.010844,
     "end_time": "2025-04-08T14:37:17.322191",
     "exception": false,
     "start_time": "2025-04-08T14:37:17.311347",
     "status": "completed"
    },
    "tags": []
   },
   "outputs": [
    {
     "name": "stdout",
     "output_type": "stream",
     "text": [
      "✅ Found visualDet3D at: /kaggle/working/MonoDTR/MonoDTR/visualDet3D\n"
     ]
    }
   ],
   "source": [
    "import os\n",
    "\n",
    "# Let's find visualDet3D manually\n",
    "for root, dirs, files in os.walk(\"/kaggle/working\"):\n",
    "    if \"visualDet3D\" in dirs:\n",
    "        print(\"✅ Found visualDet3D at:\", os.path.join(root, \"visualDet3D\"))\n",
    "        break"
   ]
  },
  {
   "cell_type": "code",
   "execution_count": 12,
   "id": "2d3ff602",
   "metadata": {
    "execution": {
     "iopub.execute_input": "2025-04-08T14:37:17.332073Z",
     "iopub.status.busy": "2025-04-08T14:37:17.331780Z",
     "iopub.status.idle": "2025-04-08T14:37:17.336296Z",
     "shell.execute_reply": "2025-04-08T14:37:17.335596Z"
    },
    "papermill": {
     "duration": 0.010909,
     "end_time": "2025-04-08T14:37:17.337549",
     "exception": false,
     "start_time": "2025-04-08T14:37:17.326640",
     "status": "completed"
    },
    "tags": []
   },
   "outputs": [
    {
     "name": "stdout",
     "output_type": "stream",
     "text": [
      "🛣 sys.path[0]: /kaggle/working/MonoDTR/MonoDTR\n"
     ]
    }
   ],
   "source": [
    "import sys\n",
    "\n",
    "# Replace this with your actual result from above\n",
    "sys.path.insert(0, \"/kaggle/working/MonoDTR/MonoDTR\")\n",
    "\n",
    "# Confirm it’s added\n",
    "print(\"🛣 sys.path[0]:\", sys.path[0])"
   ]
  },
  {
   "cell_type": "code",
   "execution_count": 13,
   "id": "dd5cd735",
   "metadata": {
    "execution": {
     "iopub.execute_input": "2025-04-08T14:37:17.347137Z",
     "iopub.status.busy": "2025-04-08T14:37:17.346897Z",
     "iopub.status.idle": "2025-04-08T14:37:17.352263Z",
     "shell.execute_reply": "2025-04-08T14:37:17.351602Z"
    },
    "papermill": {
     "duration": 0.011619,
     "end_time": "2025-04-08T14:37:17.353573",
     "exception": false,
     "start_time": "2025-04-08T14:37:17.341954",
     "status": "completed"
    },
    "tags": []
   },
   "outputs": [
    {
     "name": "stdout",
     "output_type": "stream",
     "text": [
      "Contents of MonoDTR directory:\n",
      "['resources', 'config', 'INSTALL.md', 'visualDet3D', 'launchers', 'README.md', 'make.sh', 'scripts', 'requirement.txt', 'DATA.md', 'LICENSE']\n",
      "\n",
      "Contents of visualDet3D directory:\n",
      "['evaluator', '__init__.py', 'utils', 'networks', 'data']\n"
     ]
    }
   ],
   "source": [
    "import os\n",
    "# List the contents of the directory where visualDet3D is supposed to be\n",
    "base_path = '/kaggle/working/MonoDTR/MonoDTR'\n",
    "print(\"Contents of MonoDTR directory:\")\n",
    "print(os.listdir(base_path))\n",
    "\n",
    "# List the contents of the visualDet3D directory\n",
    "visual_det_path = os.path.join(base_path, 'visualDet3D')\n",
    "print(\"\\nContents of visualDet3D directory:\")\n",
    "print(os.listdir(visual_det_path))"
   ]
  },
  {
   "cell_type": "code",
   "execution_count": 14,
   "id": "fc289fdc",
   "metadata": {
    "execution": {
     "iopub.execute_input": "2025-04-08T14:37:17.362643Z",
     "iopub.status.busy": "2025-04-08T14:37:17.362401Z",
     "iopub.status.idle": "2025-04-08T14:37:17.367338Z",
     "shell.execute_reply": "2025-04-08T14:37:17.366579Z"
    },
    "papermill": {
     "duration": 0.010674,
     "end_time": "2025-04-08T14:37:17.368499",
     "exception": false,
     "start_time": "2025-04-08T14:37:17.357825",
     "status": "completed"
    },
    "tags": []
   },
   "outputs": [
    {
     "name": "stdout",
     "output_type": "stream",
     "text": [
      "Checking for __init__.py files:\n",
      "Exists in visualDet3D: True\n",
      "Exists in visualDet3D/networks: True\n",
      "Exists in visualDet3D/networks/lib: True\n",
      "Exists in visualDet3D/networks/lib/ops: True\n"
     ]
    }
   ],
   "source": [
    "print(\"Checking for __init__.py files:\")\n",
    "for dir_path in ['visualDet3D', 'visualDet3D/networks', 'visualDet3D/networks/lib', 'visualDet3D/networks/lib/ops']:\n",
    "    print(f\"Exists in {dir_path}: {os.path.isfile(os.path.join(base_path, dir_path, '__init__.py'))}\")"
   ]
  },
  {
   "cell_type": "code",
   "execution_count": 15,
   "id": "7cbdfe4a",
   "metadata": {
    "execution": {
     "iopub.execute_input": "2025-04-08T14:37:17.377832Z",
     "iopub.status.busy": "2025-04-08T14:37:17.377604Z",
     "iopub.status.idle": "2025-04-08T14:37:19.110606Z",
     "shell.execute_reply": "2025-04-08T14:37:19.109553Z"
    },
    "papermill": {
     "duration": 1.739232,
     "end_time": "2025-04-08T14:37:19.112149",
     "exception": false,
     "start_time": "2025-04-08T14:37:17.372917",
     "status": "completed"
    },
    "tags": []
   },
   "outputs": [
    {
     "name": "stdout",
     "output_type": "stream",
     "text": [
      "PyTorch version: 2.5.1+cu121\n",
      "PyTorch library path: /usr/local/lib/python3.10/dist-packages/torch/__init__.py\n",
      "Import failed: No module named 'deform_conv_ext'\n"
     ]
    }
   ],
   "source": [
    "# Step 2: Import PyTorch and check the version\n",
    "import torch\n",
    "print(\"PyTorch version:\", torch.__version__)\n",
    "\n",
    "# Step 3: Check the PyTorch library path\n",
    "print(\"PyTorch library path:\", torch.__file__)\n",
    "\n",
    "# Step 4: If necessary, set the LD_LIBRARY_PATH (usually not needed)\n",
    "import os\n",
    "os.environ['LD_LIBRARY_PATH'] = '/usr/local/lib' + ':' + os.environ.get('LD_LIBRARY_PATH', '')\n",
    "\n",
    "# Step 5: Attempt to import the deform_conv_ext module\n",
    "try:\n",
    "    import deform_conv_ext\n",
    "    print(\"Import successful!\")\n",
    "except ImportError as e:\n",
    "    print(\"Import failed:\", e)"
   ]
  }
 ],
 "metadata": {
  "kaggle": {
   "accelerator": "gpu",
   "dataSources": [
    {
     "datasetId": 7048628,
     "sourceId": 11275002,
     "sourceType": "datasetVersion"
    }
   ],
   "dockerImageVersionId": 30919,
   "isGpuEnabled": true,
   "isInternetEnabled": true,
   "language": "python",
   "sourceType": "notebook"
  },
  "kernelspec": {
   "display_name": "Python 3",
   "language": "python",
   "name": "python3"
  },
  "language_info": {
   "codemirror_mode": {
    "name": "ipython",
    "version": 3
   },
   "file_extension": ".py",
   "mimetype": "text/x-python",
   "name": "python",
   "nbconvert_exporter": "python",
   "pygments_lexer": "ipython3",
   "version": "3.10.12"
  },
  "papermill": {
   "default_parameters": {},
   "duration": 100.099732,
   "end_time": "2025-04-08T14:37:20.037812",
   "environment_variables": {},
   "exception": null,
   "input_path": "__notebook__.ipynb",
   "output_path": "__notebook__.ipynb",
   "parameters": {},
   "start_time": "2025-04-08T14:35:39.938080",
   "version": "2.6.0"
  }
 },
 "nbformat": 4,
 "nbformat_minor": 5
}
