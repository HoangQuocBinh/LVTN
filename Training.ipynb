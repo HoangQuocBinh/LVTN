{
 "cells": [
  {
   "cell_type": "code",
   "execution_count": 1,
   "id": "42bf352b",
   "metadata": {
    "execution": {
     "iopub.execute_input": "2025-08-19T14:50:33.114964Z",
     "iopub.status.busy": "2025-08-19T14:50:33.114668Z",
     "iopub.status.idle": "2025-08-19T14:50:33.235686Z",
     "shell.execute_reply": "2025-08-19T14:50:33.234681Z"
    },
    "papermill": {
     "duration": 0.128744,
     "end_time": "2025-08-19T14:50:33.237028",
     "exception": false,
     "start_time": "2025-08-19T14:50:33.108284",
     "status": "completed"
    },
    "tags": []
   },
   "outputs": [
    {
     "name": "stdout",
     "output_type": "stream",
     "text": [
      "Python 3.10.12\r\n"
     ]
    }
   ],
   "source": [
    "!python --version"
   ]
  },
  {
   "cell_type": "code",
   "execution_count": 2,
   "id": "e1405099",
   "metadata": {
    "execution": {
     "iopub.execute_input": "2025-08-19T14:50:33.247526Z",
     "iopub.status.busy": "2025-08-19T14:50:33.247282Z",
     "iopub.status.idle": "2025-08-19T14:50:33.250399Z",
     "shell.execute_reply": "2025-08-19T14:50:33.249807Z"
    },
    "papermill": {
     "duration": 0.00986,
     "end_time": "2025-08-19T14:50:33.251886",
     "exception": false,
     "start_time": "2025-08-19T14:50:33.242026",
     "status": "completed"
    },
    "tags": []
   },
   "outputs": [],
   "source": [
    "import sys\n",
    "\n",
    "sys.path.append(\"/kaggle/input/monodtr-library-ver2/MonoDTR\")"
   ]
  },
  {
   "cell_type": "code",
   "execution_count": 3,
   "id": "258402eb",
   "metadata": {
    "execution": {
     "iopub.execute_input": "2025-08-19T14:50:33.261789Z",
     "iopub.status.busy": "2025-08-19T14:50:33.261556Z",
     "iopub.status.idle": "2025-08-19T14:50:45.256982Z",
     "shell.execute_reply": "2025-08-19T14:50:45.255900Z"
    },
    "papermill": {
     "duration": 12.002141,
     "end_time": "2025-08-19T14:50:45.258576",
     "exception": false,
     "start_time": "2025-08-19T14:50:33.256435",
     "status": "completed"
    },
    "tags": []
   },
   "outputs": [
    {
     "name": "stdout",
     "output_type": "stream",
     "text": [
      "\u001b[2K   \u001b[90m━━━━━━━━━━━━━━━━━━━━━━━━━━━━━━━━━━━━━━━━\u001b[0m \u001b[32m115.9/115.9 kB\u001b[0m \u001b[31m5.1 MB/s\u001b[0m eta \u001b[36m0:00:00\u001b[0m\r\n",
      "\u001b[2K   \u001b[90m━━━━━━━━━━━━━━━━━━━━━━━━━━━━━━━━━━━━━━━━\u001b[0m \u001b[32m46.0/46.0 kB\u001b[0m \u001b[31m2.4 MB/s\u001b[0m eta \u001b[36m0:00:00\u001b[0m\r\n",
      "\u001b[2K   \u001b[90m━━━━━━━━━━━━━━━━━━━━━━━━━━━━━━━━━━━━━━━━\u001b[0m \u001b[32m86.8/86.8 kB\u001b[0m \u001b[31m6.0 MB/s\u001b[0m eta \u001b[36m0:00:00\u001b[0m\r\n",
      "\u001b[?25h"
     ]
    }
   ],
   "source": [
    "!pip install -qq -r /kaggle/input/monodtr-library-ver2/MonoDTR/requirement.txt\n",
    "!pip install -qq coloredlogs\n",
    "!pip install -qq ptflops"
   ]
  },
  {
   "cell_type": "code",
   "execution_count": 4,
   "id": "0dbac377",
   "metadata": {
    "execution": {
     "iopub.execute_input": "2025-08-19T14:50:45.269675Z",
     "iopub.status.busy": "2025-08-19T14:50:45.269401Z",
     "iopub.status.idle": "2025-08-19T14:50:45.272854Z",
     "shell.execute_reply": "2025-08-19T14:50:45.272165Z"
    },
    "papermill": {
     "duration": 0.010092,
     "end_time": "2025-08-19T14:50:45.274086",
     "exception": false,
     "start_time": "2025-08-19T14:50:45.263994",
     "status": "completed"
    },
    "tags": []
   },
   "outputs": [],
   "source": [
    "sys.path.append(\"/kaggle/input/monodtr-library-ver2/MonoDTR/scripts\")\n",
    "sys.path.append(\"/kaggle/input/pretrain-monodtr-base\")\n",
    "sys.path.append(\"/kaggle/input/checkpoint\")"
   ]
  },
  {
   "cell_type": "code",
   "execution_count": 5,
   "id": "9b8e4ec1",
   "metadata": {
    "execution": {
     "iopub.execute_input": "2025-08-19T14:50:45.284754Z",
     "iopub.status.busy": "2025-08-19T14:50:45.284502Z",
     "iopub.status.idle": "2025-08-19T14:50:48.725704Z",
     "shell.execute_reply": "2025-08-19T14:50:48.724670Z"
    },
    "papermill": {
     "duration": 3.448271,
     "end_time": "2025-08-19T14:50:48.727211",
     "exception": false,
     "start_time": "2025-08-19T14:50:45.278940",
     "status": "completed"
    },
    "tags": []
   },
   "outputs": [
    {
     "name": "stdout",
     "output_type": "stream",
     "text": [
      "['deform_conv.py', 'deform_conv_ext.cpython-310-x86_64-linux-gnu.so', 'make.sh', 'src', '__init__.py', 'setup.py']\n",
      "Python version: 3.10.12 (main, Nov  6 2024, 20:22:13) [GCC 11.4.0]\n",
      "Import successful!\n"
     ]
    }
   ],
   "source": [
    "import os\n",
    "import sys\n",
    "import torch\n",
    "\n",
    "# Add the directory containing the .so file to the system path\n",
    "sys.path.append('/kaggle/input/monodtr-library-ver2/MonoDTR/visualDet3D/networks/lib/ops/dcn')\n",
    "\n",
    "# Check if the .so file exists\n",
    "print(os.listdir('/kaggle/input/monodtr-library-ver2/MonoDTR/visualDet3D/networks/lib/ops/dcn'))\n",
    "\n",
    "# Print Python version\n",
    "print(\"Python version:\", sys.version)\n",
    "\n",
    "# Set LD_LIBRARY_PATH\n",
    "os.environ['LD_LIBRARY_PATH'] = '/kaggle/input/monodtr-library-ver2/MonoDTR/visualDet3D/networks/lib/ops/dcn:' + os.environ.get('LD_LIBRARY_PATH', '')\n",
    "\n",
    "# Attempt to import the module\n",
    "try:\n",
    "    import deform_conv_ext\n",
    "    print(\"Import successful!\")\n",
    "except ImportError as e:\n",
    "    print(\"Import failed:\", e)\n",
    "\n",
    "# If needed, run the setup or make script\n",
    "# !python setup.py build\n",
    "# !python setup.py install\n",
    "# or\n",
    "# !bash make.sh\n"
   ]
  },
  {
   "cell_type": "code",
   "execution_count": 6,
   "id": "99f64b74",
   "metadata": {
    "execution": {
     "iopub.execute_input": "2025-08-19T14:50:48.738213Z",
     "iopub.status.busy": "2025-08-19T14:50:48.737887Z",
     "iopub.status.idle": "2025-08-19T14:50:48.813280Z",
     "shell.execute_reply": "2025-08-19T14:50:48.812446Z"
    },
    "papermill": {
     "duration": 0.082081,
     "end_time": "2025-08-19T14:50:48.814459",
     "exception": false,
     "start_time": "2025-08-19T14:50:48.732378",
     "status": "completed"
    },
    "tags": []
   },
   "outputs": [
    {
     "name": "stdout",
     "output_type": "stream",
     "text": [
      "CUDA is available!\n",
      "Number of GPUs available: 1\n",
      "Current GPU: 0\n",
      "GPU Name: Tesla P100-PCIE-16GB\n"
     ]
    }
   ],
   "source": [
    "import torch\n",
    "\n",
    "if torch.cuda.is_available():\n",
    "    print(\"CUDA is available!\")\n",
    "    print(\"Number of GPUs available:\", torch.cuda.device_count())\n",
    "    print(\"Current GPU:\", torch.cuda.current_device())\n",
    "    print(\"GPU Name:\", torch.cuda.get_device_name(torch.cuda.current_device()))\n",
    "else:\n",
    "    print(\"CUDA is not available. Check your settings.\")\n"
   ]
  },
  {
   "cell_type": "code",
   "execution_count": 7,
   "id": "8c4e07c6",
   "metadata": {
    "execution": {
     "iopub.execute_input": "2025-08-19T14:50:48.825347Z",
     "iopub.status.busy": "2025-08-19T14:50:48.825120Z",
     "iopub.status.idle": "2025-08-19T14:50:49.004891Z",
     "shell.execute_reply": "2025-08-19T14:50:49.004074Z"
    },
    "papermill": {
     "duration": 0.186654,
     "end_time": "2025-08-19T14:50:49.006245",
     "exception": false,
     "start_time": "2025-08-19T14:50:48.819591",
     "status": "completed"
    },
    "tags": []
   },
   "outputs": [
    {
     "name": "stdout",
     "output_type": "stream",
     "text": [
      "Tensor created on GPU.\n",
      "Allocated GPU Memory: 400556032\n",
      "Cached GPU Memory: 400556032\n"
     ]
    }
   ],
   "source": [
    "# Create a large tensor and move it to the GPU\n",
    "device = torch.device(\"cuda\" if torch.cuda.is_available() else \"cpu\")\n",
    "x = torch.randn(10000, 10000, device=device)  # This should allocate GPU memory\n",
    "print(\"Tensor created on GPU.\")\n",
    "print(\"Allocated GPU Memory:\", torch.cuda.memory_allocated(device))\n",
    "print(\"Cached GPU Memory:\", torch.cuda.memory_reserved(device))\n"
   ]
  },
  {
   "cell_type": "code",
   "execution_count": 8,
   "id": "ff6a63a7",
   "metadata": {
    "execution": {
     "iopub.execute_input": "2025-08-19T14:50:49.018060Z",
     "iopub.status.busy": "2025-08-19T14:50:49.017840Z",
     "iopub.status.idle": "2025-08-19T14:50:56.297521Z",
     "shell.execute_reply": "2025-08-19T14:50:56.296624Z"
    },
    "papermill": {
     "duration": 7.287261,
     "end_time": "2025-08-19T14:50:56.299164",
     "exception": false,
     "start_time": "2025-08-19T14:50:49.011903",
     "status": "completed"
    },
    "tags": []
   },
   "outputs": [],
   "source": [
    "import torch.nn as nn\n",
    "import torch\n",
    "import torch\n",
    "from torch.nn import Module, Dropout\n",
    "from einops import rearrange\n",
    "import torch.nn.functional as F\n",
    "from ptflops import get_model_complexity_info"
   ]
  },
  {
   "cell_type": "code",
   "execution_count": 9,
   "id": "ec820682",
   "metadata": {
    "execution": {
     "iopub.execute_input": "2025-08-19T14:50:56.310820Z",
     "iopub.status.busy": "2025-08-19T14:50:56.310566Z",
     "iopub.status.idle": "2025-08-19T14:50:56.315184Z",
     "shell.execute_reply": "2025-08-19T14:50:56.314582Z"
    },
    "papermill": {
     "duration": 0.011446,
     "end_time": "2025-08-19T14:50:56.316402",
     "exception": false,
     "start_time": "2025-08-19T14:50:56.304956",
     "status": "completed"
    },
    "tags": []
   },
   "outputs": [],
   "source": [
    "# -------------------------- RMSNorm --------------------------\n",
    "class RMSNorm(nn.Module):\n",
    "    def __init__(self, dim, eps=1e-8):\n",
    "        super().__init__()\n",
    "        self.eps = eps\n",
    "        self.scale = nn.Parameter(torch.ones(dim))\n",
    "\n",
    "    def forward(self, x):\n",
    "        # x: (B, L, D)\n",
    "        norm_x = x * torch.rsqrt(x.pow(2).mean(-1, keepdim=True) + self.eps)\n",
    "        return self.scale * norm_x\n",
    "\n",
    "# -------------------------- FLIP Module --------------------------\n",
    "def flip(x, dim):\n",
    "    return torch.flip(x, dims=[dim])"
   ]
  },
  {
   "cell_type": "code",
   "execution_count": 10,
   "id": "566eb562",
   "metadata": {
    "execution": {
     "iopub.execute_input": "2025-08-19T14:50:56.327207Z",
     "iopub.status.busy": "2025-08-19T14:50:56.326997Z",
     "iopub.status.idle": "2025-08-19T14:50:56.335101Z",
     "shell.execute_reply": "2025-08-19T14:50:56.334534Z"
    },
    "papermill": {
     "duration": 0.014884,
     "end_time": "2025-08-19T14:50:56.336277",
     "exception": false,
     "start_time": "2025-08-19T14:50:56.321393",
     "status": "completed"
    },
    "tags": []
   },
   "outputs": [],
   "source": [
    "# -------------------------- BiMamba2 Block (Conv Fusion) --------------------------\n",
    "class BiMamba2(nn.Module):\n",
    "    def __init__(self, dim):\n",
    "        super().__init__()\n",
    "        self.linear_x = nn.Linear(dim, dim)\n",
    "        self.linear_bf = nn.Linear(dim, dim)\n",
    "        self.linear_bb = nn.Linear(dim, dim)\n",
    "        self.linear_z = nn.Linear(dim, dim)\n",
    "\n",
    "        self.concat_proj_f = nn.Linear(2 * dim, dim)\n",
    "        self.concat_proj_b = nn.Linear(2 * dim, dim)\n",
    "\n",
    "        self.conv1d_f = nn.Conv1d(dim, dim, kernel_size=1)\n",
    "        self.conv1d_b = nn.Conv1d(dim, dim, kernel_size=1)\n",
    "        self.conv1d_zf = nn.Conv1d(dim, dim, kernel_size=1)\n",
    "        self.conv1d_ab_z = nn.Conv1d(dim, dim, kernel_size=1)\n",
    "\n",
    "        self.ssms_f = nn.Sequential(\n",
    "            nn.Conv1d(dim, dim, 1),\n",
    "            nn.GELU(),\n",
    "            nn.Conv1d(dim, dim, 1)\n",
    "        )\n",
    "        self.ssms_b = nn.Sequential(\n",
    "            nn.Conv1d(dim, dim, 1),\n",
    "            nn.GELU(),\n",
    "            nn.Conv1d(dim, dim, 1)\n",
    "        )\n",
    "\n",
    "        self.norm_f = RMSNorm(dim)\n",
    "        self.norm_b = RMSNorm(dim)\n",
    "        self.output_linear = nn.Linear(dim, dim)\n",
    "\n",
    "    def forward(self, u):\n",
    "        # u: (B, L, D)\n",
    "        x = self.linear_x(u)          # (B, L, D)\n",
    "        bf = self.linear_bf(u)        # (B, L, D)\n",
    "        bb = self.linear_bb(u)        # (B, L, D)\n",
    "        z = self.linear_z(u)          # (B, L, D)\n",
    "\n",
    "        bf_x = torch.cat([bf, x], dim=-1)         # (B, L, 2D)\n",
    "        bb_x = torch.cat([bb, x], dim=-1)         # (B, L, 2D)\n",
    "\n",
    "        bf_x = self.concat_proj_f(bf_x)           # (B, L, D)\n",
    "        bb_x = self.concat_proj_b(bb_x)           # (B, L, D)\n",
    "\n",
    "        af = self.conv1d_f(bf_x.transpose(1, 2))  # (B, D, L)\n",
    "        af = F.gelu(af)     \n",
    "        af = self.ssms_f(af).transpose(1, 2)      # (B, L, D)# (B, D, L)\n",
    "        # af = af + self.conv1d_zf(z.transpose(1, 2))  # af conv with z\n",
    "        af = af * z\n",
    "        af = self.norm_f(af)                      # (B, L, D)\n",
    "\n",
    "        bb_x_flip = flip(bb_x, dim=1)             # (B, L, D)\n",
    "        ab = self.conv1d_b(bb_x_flip.transpose(1, 2))  # (B, D, L)\n",
    "        ab = F.gelu(ab)                                # (B, D, L)\n",
    "\n",
    "        z_flip = flip(z, dim=1)                        # (B, L, D)\n",
    "        ab = self.ssms_b(ab).transpose(1, 2)           # (B, L, D)\n",
    "        # ab = ab + self.conv1d_ab_z(z_flip.transpose(1, 2))  # (B, D, L)\n",
    "        ab = ab * z_flip   # (B, D, L)\n",
    "        ab = self.norm_b(ab)                           # (B, L, D)\n",
    "        ab = flip(ab, dim=1)                           # (B, L, D)\n",
    "\n",
    "        out = self.output_linear(af + ab)         # (B, L, D)                 # (B, L, D)\n",
    "        return out"
   ]
  },
  {
   "cell_type": "code",
   "execution_count": 11,
   "id": "a9c34dce",
   "metadata": {
    "execution": {
     "iopub.execute_input": "2025-08-19T14:50:56.346992Z",
     "iopub.status.busy": "2025-08-19T14:50:56.346794Z",
     "iopub.status.idle": "2025-08-19T14:50:56.354883Z",
     "shell.execute_reply": "2025-08-19T14:50:56.354239Z"
    },
    "papermill": {
     "duration": 0.014769,
     "end_time": "2025-08-19T14:50:56.355984",
     "exception": false,
     "start_time": "2025-08-19T14:50:56.341215",
     "status": "completed"
    },
    "tags": []
   },
   "outputs": [],
   "source": [
    "# -------------------------- CrossMamba2 Module --------------------------\n",
    "class CrossMamba2(nn.Module):\n",
    "    def __init__(self, dim):\n",
    "        super().__init__()\n",
    "        self.linear_x = nn.Linear(dim, dim)\n",
    "        self.linear_z = nn.Linear(dim, dim)\n",
    "        self.linear_bf = nn.Linear(dim, dim)\n",
    "        self.linear_bb = nn.Linear(dim, dim)\n",
    "\n",
    "        self.concat_proj_f = nn.Linear(2 * dim, dim)\n",
    "        self.concat_proj_b = nn.Linear(2 * dim, dim)\n",
    "\n",
    "        self.conv1d_f = nn.Conv1d(dim, dim, kernel_size=1)\n",
    "        self.conv1d_b = nn.Conv1d(dim, dim, kernel_size=1)\n",
    "        self.conv1d_zf = nn.Conv1d(dim, dim, kernel_size=1)\n",
    "        self.conv1d_ab_z = nn.Conv1d(dim, dim, kernel_size=1)\n",
    "\n",
    "        self.ssms_f = nn.Sequential(\n",
    "            nn.Conv1d(dim, dim, 1),\n",
    "            nn.GELU(),\n",
    "            nn.Conv1d(dim, dim, 1)\n",
    "        )\n",
    "        self.ssms_b = nn.Sequential(\n",
    "            nn.Conv1d(dim, dim, 1),\n",
    "            nn.GELU(),\n",
    "            nn.Conv1d(dim, dim, 1)\n",
    "        )\n",
    "\n",
    "        self.norm_f = RMSNorm(dim)\n",
    "        self.norm_b = RMSNorm(dim)\n",
    "        self.output_linear = nn.Linear(dim, dim)\n",
    "\n",
    "    def forward(self, u1, u2):\n",
    "        # u1: context (B, L, D), u2: depth (B, L, D)\n",
    "        x = self.linear_x(u1)               # (B, L, D)\n",
    "        z = self.linear_z(u1)               # (B, L, D)\n",
    "        bf = self.linear_bf(u2)             # (B, L, D)\n",
    "        bb = self.linear_bb(u2)             # (B, L, D)\n",
    "\n",
    "        bf_x = torch.cat([bf, x], dim=-1)   # (B, L, 2D)\n",
    "        bb_x = torch.cat([bb, x], dim=-1)   # (B, L, 2D)\n",
    "\n",
    "        bf_x = self.concat_proj_f(bf_x)     # (B, L, D)\n",
    "        bb_x = self.concat_proj_b(bb_x)     # (B, L, D)\n",
    "\n",
    "        af = self.conv1d_f(bf_x.transpose(1, 2))  # (B, D, L)\n",
    "        af = F.gelu(af)\n",
    "        af = self.ssms_f(af).transpose(1, 2)      # (B, L, D)\n",
    "        # af = af + self.conv1d_zf(z.transpose(1, 2))  # af conv with z\n",
    "        af = af * z  # af conv with z\n",
    "        af = self.norm_f(af)\n",
    "\n",
    "        bb_x_flip = flip(bb_x, dim=1)             # (B, L, D)\n",
    "        ab = self.conv1d_b(bb_x_flip.transpose(1, 2))\n",
    "        ab = F.gelu(ab).transpose(1, 2)           # (B, L, D)\n",
    "\n",
    "        z_flip = flip(z, dim=1)\n",
    "        ab = self.ssms_b(ab.transpose(1, 2)).transpose(1, 2)\n",
    "        # ab = ab + self.conv1d_ab_z(z_flip.transpose(1, 2))  # (B, D, L)\n",
    "        ab = ab * z_flip  # (B, D, L)\n",
    "        ab = self.norm_b(ab)\n",
    "        ab = flip(ab, dim=1)\n",
    "\n",
    "        out = self.output_linear(af + ab)         # (B, L, D)\n",
    "        return out"
   ]
  },
  {
   "cell_type": "code",
   "execution_count": 12,
   "id": "08596fc4",
   "metadata": {
    "execution": {
     "iopub.execute_input": "2025-08-19T14:50:56.366662Z",
     "iopub.status.busy": "2025-08-19T14:50:56.366452Z",
     "iopub.status.idle": "2025-08-19T14:50:56.369854Z",
     "shell.execute_reply": "2025-08-19T14:50:56.369268Z"
    },
    "papermill": {
     "duration": 0.010223,
     "end_time": "2025-08-19T14:50:56.371039",
     "exception": false,
     "start_time": "2025-08-19T14:50:56.360816",
     "status": "completed"
    },
    "tags": []
   },
   "outputs": [],
   "source": [
    "# -------------------------- FFN + Norm --------------------------\n",
    "class FeedForward(nn.Module):\n",
    "    def __init__(self, dim, hidden_dim):\n",
    "        super().__init__()\n",
    "        self.net = nn.Sequential(\n",
    "            nn.Linear(dim, hidden_dim),\n",
    "            nn.GELU(),\n",
    "            nn.Linear(hidden_dim, dim)\n",
    "        )\n",
    "\n",
    "    def forward(self, x):\n",
    "        return self.net(x)"
   ]
  },
  {
   "cell_type": "code",
   "execution_count": 13,
   "id": "26a0c80b",
   "metadata": {
    "execution": {
     "iopub.execute_input": "2025-08-19T14:50:56.381555Z",
     "iopub.status.busy": "2025-08-19T14:50:56.381348Z",
     "iopub.status.idle": "2025-08-19T14:50:56.387722Z",
     "shell.execute_reply": "2025-08-19T14:50:56.386906Z"
    },
    "papermill": {
     "duration": 0.012879,
     "end_time": "2025-08-19T14:50:56.388917",
     "exception": false,
     "start_time": "2025-08-19T14:50:56.376038",
     "status": "completed"
    },
    "tags": []
   },
   "outputs": [],
   "source": [
    "# -------------------------- Depth Aware Mamba (DTR-Compatible Input) --------------------------\n",
    "class DepthAwareMamba(nn.Module):\n",
    "    def __init__(self, output_channel_num):\n",
    "        super().__init__()\n",
    "        self.output_channel_num = output_channel_num\n",
    "\n",
    "        self.encoder_bimamba = BiMamba2(self.output_channel_num)\n",
    "        self.encoder_ffn = FeedForward(self.output_channel_num, self.output_channel_num * 2)\n",
    "        self.encoder_norm1 = nn.LayerNorm(self.output_channel_num)\n",
    "        self.encoder_norm2 = nn.LayerNorm(self.output_channel_num)\n",
    "\n",
    "        self.decoder_bimamba = BiMamba2(self.output_channel_num)\n",
    "        self.cross_bimamba = CrossMamba2(self.output_channel_num)\n",
    "        self.decoder_ffn = FeedForward(self.output_channel_num, self.output_channel_num * 2)\n",
    "        self.decoder_norm1 = nn.LayerNorm(self.output_channel_num)\n",
    "        self.decoder_norm2 = nn.LayerNorm(self.output_channel_num)\n",
    "        self.decoder_norm3 = nn.LayerNorm(self.output_channel_num)\n",
    "\n",
    "    def forward(self, depth_feat, context_feat, depth_pos=None):\n",
    "        depth_feat = depth_feat.contiguous()\n",
    "        context_feat = context_feat.contiguous()\n",
    "        if depth_pos is not None:\n",
    "            depth_pos = depth_pos.contiguous()\n",
    "            context_feat = context_feat + depth_pos\n",
    "    \n",
    "        # Encoder on context_feat\n",
    "        x = self.encoder_bimamba(context_feat.contiguous())\n",
    "        x = self.encoder_norm1((x + context_feat).contiguous())\n",
    "        x_ffn = self.encoder_ffn(x.contiguous())\n",
    "        x = self.encoder_norm2((x + x_ffn).contiguous())\n",
    "    \n",
    "        # Decoder on depth_feat and fused context\n",
    "        d = self.decoder_bimamba(depth_feat.contiguous())\n",
    "        d = self.decoder_norm1((d + depth_feat).contiguous())\n",
    "    \n",
    "        x = self.cross_bimamba(x.contiguous(), d.contiguous())\n",
    "        x = self.decoder_norm2(x.contiguous())\n",
    "        x_ffn = self.decoder_ffn(x.contiguous())\n",
    "        x = self.decoder_norm3((x + x_ffn).contiguous())\n",
    "        return x\n"
   ]
  },
  {
   "cell_type": "code",
   "execution_count": 14,
   "id": "d0ef3c42",
   "metadata": {
    "execution": {
     "iopub.execute_input": "2025-08-19T14:50:56.399710Z",
     "iopub.status.busy": "2025-08-19T14:50:56.399440Z",
     "iopub.status.idle": "2025-08-19T14:50:56.405633Z",
     "shell.execute_reply": "2025-08-19T14:50:56.404912Z"
    },
    "papermill": {
     "duration": 0.012974,
     "end_time": "2025-08-19T14:50:56.406830",
     "exception": false,
     "start_time": "2025-08-19T14:50:56.393856",
     "status": "completed"
    },
    "tags": []
   },
   "outputs": [],
   "source": [
    "import torch\n",
    "import torch.nn as nn\n",
    "import torch.nn.functional as F\n",
    "\n",
    "class CSA(nn.Module):\n",
    "    def __init__(self, in_channels):\n",
    "        super(CSA, self).__init__()\n",
    "        self.in_channels = in_channels\n",
    "\n",
    "    def forward(self, fine_feat, coarse_feat):\n",
    "        \"\"\"\n",
    "        Cross-Scale Attention (CSA) module.\n",
    "        \n",
    "        Inputs:\n",
    "            fine_feat: (N, C, H1, W1) - Finer resolution feature\n",
    "            coarse_feat: (N, C, H2, W2) - Coarser resolution feature (H2 < H1, W2 < W1)\n",
    "        \n",
    "        Output:\n",
    "            refined_feat: (N, C, H1, W1) - Refined feature at finer resolution\n",
    "        \"\"\"\n",
    "        N, C, H1, W1 = fine_feat.shape  # Finer resolution\n",
    "        _, _, H2, W2 = coarse_feat.shape  # Coarser resolution\n",
    "\n",
    "        # Upsample coarse features to match fine resolution\n",
    "        coarse_reshaped = F.interpolate(coarse_feat, size=(H1, W1), mode='bilinear', align_corners=False)\n",
    "        # coarse_reshaped: (N, C, H1, W1)\n",
    "\n",
    "        # Compute attention map\n",
    "        fine_flat = fine_feat.view(N, C, H1 * W1).permute(0, 2, 1)  # (N, H1*W1, C)\n",
    "        coarse_flat = coarse_reshaped.view(N, C, H1 * W1).permute(0, 2, 1)  # (N, H1*W1, C)\n",
    "        attention = torch.bmm(fine_flat, coarse_flat.transpose(1, 2))  # (N, H1*W1, H1*W1)\n",
    "        attention = F.softmax(attention, dim=-1)\n",
    "\n",
    "        # Apply attention to refine fine features\n",
    "        fine_attended = torch.bmm(attention, fine_flat).permute(0, 2, 1).view(N, C, H1, W1)\n",
    "        # fine_attended: (N, C, H1, W1)\n",
    "        refined_feat = fine_feat + fine_attended  # Residual connection\n",
    "        return refined_feat  # (N, C, H1, W1)"
   ]
  },
  {
   "cell_type": "code",
   "execution_count": 15,
   "id": "3e7c8241",
   "metadata": {
    "execution": {
     "iopub.execute_input": "2025-08-19T14:50:56.417632Z",
     "iopub.status.busy": "2025-08-19T14:50:56.417380Z",
     "iopub.status.idle": "2025-08-19T14:50:56.422183Z",
     "shell.execute_reply": "2025-08-19T14:50:56.421572Z"
    },
    "papermill": {
     "duration": 0.011504,
     "end_time": "2025-08-19T14:50:56.423414",
     "exception": false,
     "start_time": "2025-08-19T14:50:56.411910",
     "status": "completed"
    },
    "tags": []
   },
   "outputs": [],
   "source": [
    "class MSR(nn.Module):\n",
    "    def __init__(self, in_channels, out_channels):\n",
    "        super(MSR, self).__init__()\n",
    "        self.mlp = nn.Sequential(\n",
    "            nn.Conv2d(in_channels, out_channels, kernel_size=1),\n",
    "            nn.ReLU(),\n",
    "            nn.Conv2d(out_channels, out_channels, kernel_size=1)\n",
    "        )\n",
    "\n",
    "    def forward(self, input_feat, target_size, combine_feat=None):\n",
    "        \"\"\"\n",
    "        Multi-Scale Refinement (MSR) module.\n",
    "        \n",
    "        Inputs:\n",
    "            input_feat: (N, C_in, H_in, W_in) - Feature to upsample and refine\n",
    "            target_size: tuple (H_target, W_target) - Target spatial dimensions\n",
    "            combine_feat: (N, C_out, H_target, W_target) or None - Feature to combine with\n",
    "        \n",
    "        Output:\n",
    "            refined_feat: (N, C_out, H_target, W_target)\n",
    "        \"\"\"\n",
    "        # Upsample input_feat to target_size\n",
    "        upsampled = F.interpolate(input_feat, size=target_size, mode='bilinear', align_corners=False)\n",
    "        # upsampled: (N, C_in, H_target, W_target)\n",
    "        \n",
    "        # Apply MLP to refine\n",
    "        refined = self.mlp(upsampled)\n",
    "        # refined: (N, C_out, H_target, W_target)\n",
    "        \n",
    "        if combine_feat is not None:\n",
    "            if combine_feat.shape[1] != refined.shape[1]:\n",
    "                raise ValueError(\"Channel mismatch for combination\")\n",
    "            refined = refined + combine_feat  # Additive combination\n",
    "            # refined: (N, C_out, H_target, W_target)\n",
    "        return refined"
   ]
  },
  {
   "cell_type": "code",
   "execution_count": 16,
   "id": "0fadd3ee",
   "metadata": {
    "execution": {
     "iopub.execute_input": "2025-08-19T14:50:56.434063Z",
     "iopub.status.busy": "2025-08-19T14:50:56.433839Z",
     "iopub.status.idle": "2025-08-19T14:51:13.777765Z",
     "shell.execute_reply": "2025-08-19T14:51:13.777035Z"
    },
    "papermill": {
     "duration": 17.35097,
     "end_time": "2025-08-19T14:51:13.779271",
     "exception": false,
     "start_time": "2025-08-19T14:50:56.428301",
     "status": "completed"
    },
    "tags": []
   },
   "outputs": [],
   "source": [
    "from visualDet3D.networks.backbones.dla import dla102\n",
    "from visualDet3D.networks.backbones.dlaup import DLAUp\n",
    "from visualDet3D.networks.detectors.dfe import DepthAwareFE\n",
    "from visualDet3D.networks.detectors.dpe import DepthAwarePosEnc\n",
    "from visualDet3D.networks.detectors.dtr import DepthAwareTransformer\n",
    "import math\n",
    "import time\n",
    "import csv"
   ]
  },
  {
   "cell_type": "code",
   "execution_count": 17,
   "id": "fd9463df",
   "metadata": {
    "execution": {
     "iopub.execute_input": "2025-08-19T14:51:13.791076Z",
     "iopub.status.busy": "2025-08-19T14:51:13.790529Z",
     "iopub.status.idle": "2025-08-19T14:51:13.803945Z",
     "shell.execute_reply": "2025-08-19T14:51:13.803290Z"
    },
    "papermill": {
     "duration": 0.02038,
     "end_time": "2025-08-19T14:51:13.805107",
     "exception": false,
     "start_time": "2025-08-19T14:51:13.784727",
     "status": "completed"
    },
    "tags": []
   },
   "outputs": [],
   "source": [
    "import timm\n",
    "\n",
    "class MonoDTRCore(nn.Module):\n",
    "    def __init__(self, backbone_arguments=dict()):\n",
    "        super(MonoDTRCore, self).__init__()\n",
    "\n",
    "        # Swin-T backbone with features_only=True to ensure feature pyramid output\n",
    "        self.backbone = timm.create_model('swin_tiny_patch4_window7_224', pretrained=True,features_only=True, img_size=(288, 1280))\n",
    "        # self.backbone = timm.create_model('swin_tiny_patch4_window7_224', pretrained=True, features_only=True)\n",
    "        self.first_level = 1  # Kept for reference, but no longer used\n",
    "\n",
    "        # Feature pyramid channels from Swin-T\n",
    "        self.channels = [96, 192, 384, 768]\n",
    "\n",
    "        # Projection layers to adjust channels to 256 for CSA and MSR\n",
    "        self.proj_1_4 = nn.Conv2d(96, 256, kernel_size=1)\n",
    "        self.dropout_1_4 = nn.Dropout(0.3)\n",
    "        self.proj_1_8 = nn.Conv2d(192, 256, kernel_size=1)\n",
    "        self.dropout_1_8 = nn.Dropout(0.3)\n",
    "        self.proj_1_16 = nn.Conv2d(384, 256, kernel_size=1)\n",
    "        self.dropout_1_16 = nn.Dropout(0.3)\n",
    "        self.proj_1_32 = nn.Conv2d(768, 256, kernel_size=1)\n",
    "        self.dropout_1_32 = nn.Dropout(0.3)\n",
    "\n",
    "        # CSA modules for cross-scale attention\n",
    "        self.csa_1_16_to_1_32 = CSA(256)  # 1/16 with 1/32\n",
    "        self.csa_1_8_to_1_16 = CSA(256)   # 1/8 with 1/16\n",
    "        self.csa_1_4_to_1_8 = CSA(256)    # 1/4 with 1/8\n",
    "\n",
    "        # MSR modules for upsampling and refinement\n",
    "        self.msr_1_16_to_1_8 = MSR(256, 256)  # Upsample 1/16 to 1/8, combine with CSA_2 (1/8)\n",
    "        self.msr_1_8_to_1_4 = MSR(256, 256)   # Upsample 1/8 to 1/4, combine with CSA_3 (1/4)\n",
    "        self.msr_1_4_to_1_2 = MSR(256, 256)   # Upsample 1/4 to 1/2, no combine_feat (0 input)\n",
    "        self.msr_1_2_to_1_1 = MSR(256, 256)   # Upsample 1/2 to 1/1, no combine_feat (0 input)\n",
    "\n",
    "        # Downsample for transformer input to manage memory usage\n",
    "        self.downsample_for_transformer = nn.Conv2d(256, 256, kernel_size=3, stride=8, padding=1)\n",
    "        self.dropout_transformer = nn.Dropout(0.3)\n",
    "        # Downstream modules (assumed from original MonoDTRCore)\n",
    "        self.output_channel_num = 256\n",
    "        self.dpe = DepthAwarePosEnc(self.output_channel_num)\n",
    "        self.depth_embed = nn.Embedding(100, self.output_channel_num)\n",
    "        self.dtr = DepthAwareTransformer(self.output_channel_num)\n",
    "        self.dfe = DepthAwareFE(self.output_channel_num)\n",
    "        self.img_conv = nn.Conv2d(self.output_channel_num, self.output_channel_num, kernel_size=3, padding=1)\n",
    "\n",
    "    def forward(self, x):\n",
    "        \"\"\"\n",
    "        Forward pass of MonoDTRCore.\n",
    "        \n",
    "        Input:\n",
    "            x: dict with key 'image' containing (N, 3, H, W)\n",
    "        \n",
    "        Output:\n",
    "            feat: (N, C, H/8, W/8) - Processed feature map for compatibility with dtr\n",
    "            depth: (N, D, H, W) - Depth prediction at 1/1 resolution\n",
    "        \"\"\"\n",
    "        if 'image' not in x:\n",
    "            raise ValueError(\"Input dictionary must contain 'image' key\")\n",
    "        img = x['image']  # (N, 3, H, W)\n",
    "        assert img.shape[2] == 288 and img.shape[3] == 1280, f\"Expected shape [N, 3, 288, 1280], got {img.shape}\"\n",
    "\n",
    "        if img.dim() != 4:\n",
    "            raise ValueError(f\"Expected 4D input tensor (N, C, H, W), got shape {img.shape}\")\n",
    "        \n",
    "        if img.shape[1] != 3:\n",
    "            raise ValueError(\n",
    "                f\"Expected input image to have 3 channels (RGB), got {img.shape[1]} channels. \"\n",
    "                \"Please check your data pipeline to ensure the input is correctly formatted as (N, 3, H, W). \"\n",
    "                \"If the input has 7 channels (e.g., multi-spectral), preprocess it to 3 channels or modify the backbone.\"\n",
    "            )\n",
    "\n",
    "        # Extract features using standard forward method\n",
    "        features = self.backbone(img)  # [(N, H/4, W/4, 96), (N, H/8, W/8, 192), (N, H/16, W/16, 384), (N, H/32, W/32, 768)]\n",
    "        # print(f\"Feature shapes: {[f.shape for f in features]}\")  # Debug\n",
    "        # Permute features from (N, H, W, C) to (N, C, H, W)\n",
    "        features = [f.permute(0, 3, 1, 2) for f in features]  # [(N, 96, H/4, W/4), (N, 192, H/8, W/8), (N, 384, H/16, W/16), (N, 768, H/32, W/32)]\n",
    "\n",
    "        # Apply projection layers with dropout\n",
    "        proj_1_4 = self.dropout_1_4(self.proj_1_4(features[0]))   # (N, 256, 72, 320)\n",
    "        proj_1_8 = self.dropout_1_8(self.proj_1_8(features[1]))   # (N, 256, 36, 160)\n",
    "        proj_1_16 = self.dropout_1_16(self.proj_1_16(features[2])) # (N, 256, 18, 80)\n",
    "        proj_1_32 = self.dropout_1_32(self.proj_1_32(features[3])) # (N, 256, 9, 40)\n",
    "\n",
    "        # Refine features progressively with CSA and MSR\n",
    "        feat_1_16 = self.csa_1_16_to_1_32(proj_1_16, proj_1_32)  # (N, 256, H/16, W/16)\n",
    "        feat_1_8 = self.csa_1_8_to_1_16(proj_1_8, feat_1_16)     # (N, 256, H/8, W/8)\n",
    "        feat_1_4 = self.csa_1_4_to_1_8(proj_1_4, feat_1_8)       # (N, 256, H/4, W/4)\n",
    "        feat_1_8 = feat_1_8 + self.msr_1_16_to_1_8(feat_1_16, (proj_1_8.shape[2], proj_1_8.shape[3]), combine_feat=feat_1_8)  # (N, 256, H/8, W/8)\n",
    "        feat_1_4 = feat_1_4 + self.msr_1_8_to_1_4(feat_1_8, (proj_1_4.shape[2], proj_1_4.shape[3]), combine_feat=feat_1_4)      # (N, 256, H/4, W/4)\n",
    "        target_size_1_2 = (feat_1_4.shape[2] * 2, feat_1_4.shape[3] * 2)\n",
    "        feat_1_2 = self.msr_1_4_to_1_2(feat_1_4, target_size_1_2)  # (N, 256, H/2, W/2)\n",
    "        target_size_1_1 = (feat_1_2.shape[2] * 2, feat_1_2.shape[3] * 2)\n",
    "        feat_1_1 = self.msr_1_2_to_1_1(feat_1_2, target_size_1_1)  # (N, 256, H, W)\n",
    "\n",
    "        # Keep feat_1_1 for depth prediction at 1/1 resolution\n",
    "        x_full_res = feat_1_1  # (N, 256, H, W)\n",
    "\n",
    "        # Downsample for transformer to manage memory usage and match original resolution\n",
    "        x = self.downsample_for_transformer(x_full_res) # (N, 256, 36, 160)\n",
    "\n",
    "        # Proceed with downstream processing\n",
    "        N, C, H, W = x.shape  # H=H, W=W (full resolution)\n",
    "        depth, depth_guide, depth_feat = self.dfe(x) # depth: (N, D, 288, 1280), depth_guide: (N, num_classes, 288, 1280), depth_feat: (N, 256, 288, 1280)\n",
    "        depth_feat = depth_feat.permute(0, 2, 3, 1).view(N, H * W, C)\n",
    "        depth_guide = depth_guide.argmax(1)\n",
    "        depth_emb = self.depth_embed(depth_guide).view(N, H * W, C)\n",
    "        depth_emb = self.dpe(depth_emb, (H, W))\n",
    "        img_feat = x + self.img_conv(x)\n",
    "        img_feat = img_feat.permute(0, 2, 3, 1)\n",
    "        # print(f\"img_feat shape: {img_feat.shape}\")\n",
    "        img_feat = img_feat.view(N, H * W, C)\n",
    "        feat = self.dtr(depth_feat, img_feat, depth_emb)\n",
    "        feat = feat.permute(0, 2, 1).view(N, C, H, W)\n",
    "\n",
    "        # N, C, H, W = x.shape\n",
    "        # depth, depth_guide, depth_feat = self.dfe(x_full_res)\n",
    "        # depth_feat = depth_feat.permute(0, 2, 3, 1).reshape(N, (x_full_res.shape[2] * x_full_res.shape[3]), C)\n",
    "        # depth_guide = depth_guide.argmax(1)\n",
    "        # depth_emb = self.depth_embed(depth_guide).reshape(N, (x_full_res.shape[2] * x_full_res.shape[3]), C)\n",
    "        # depth_emb = depth_emb.reshape(N, x_full_res.shape[2], x_full_res.shape[3], C).permute(0, 3, 1, 2)\n",
    "        # depth_emb = F.interpolate(depth_emb, size=(H, W), mode='bilinear', align_corners=False)\n",
    "        # depth_emb = depth_emb.permute(0, 2, 3, 1).reshape(N, H * W, C)\n",
    "        # depth_emb = self.dpe(depth_emb, (H, W))\n",
    "        # img_feat = x + self.img_conv(x)\n",
    "        # img_feat = img_feat.reshape(N, H * W, C)\n",
    "        # depth_feat = depth_feat.reshape(N, x_full_res.shape[2], x_full_res.shape[3], C).permute(0, 3, 1, 2)\n",
    "        # depth_feat = F.interpolate(depth_feat, size=(H, W), mode='bilinear', align_corners=False)\n",
    "        # depth_feat = depth_feat.permute(0, 2, 3, 1).reshape(N, H * W, C)\n",
    "        # feat = self.dtr(depth_feat, img_feat, depth_emb)\n",
    "        # feat = feat.permute(0, 2, 1).reshape(N, C, H, W)\n",
    "\n",
    "        return feat, depth"
   ]
  },
  {
   "cell_type": "code",
   "execution_count": 18,
   "id": "447b5cc8",
   "metadata": {
    "execution": {
     "iopub.execute_input": "2025-08-19T14:51:13.815738Z",
     "iopub.status.busy": "2025-08-19T14:51:13.815443Z",
     "iopub.status.idle": "2025-08-19T14:51:13.818684Z",
     "shell.execute_reply": "2025-08-19T14:51:13.818059Z"
    },
    "papermill": {
     "duration": 0.009726,
     "end_time": "2025-08-19T14:51:13.819827",
     "exception": false,
     "start_time": "2025-08-19T14:51:13.810101",
     "status": "completed"
    },
    "tags": []
   },
   "outputs": [],
   "source": [
    "from visualDet3D.networks.heads.detection_3d_head import AnchorBasedDetection3DHead\n",
    "from visualDet3D.networks.heads.depth_losses import bin_depths, DepthFocalLoss\n",
    "from visualDet3D.networks.utils.registry import DETECTOR_DICT"
   ]
  },
  {
   "cell_type": "code",
   "execution_count": 19,
   "id": "e466c81a",
   "metadata": {
    "execution": {
     "iopub.execute_input": "2025-08-19T14:51:13.830402Z",
     "iopub.status.busy": "2025-08-19T14:51:13.830191Z",
     "iopub.status.idle": "2025-08-19T14:51:13.838734Z",
     "shell.execute_reply": "2025-08-19T14:51:13.838087Z"
    },
    "papermill": {
     "duration": 0.015258,
     "end_time": "2025-08-19T14:51:13.839913",
     "exception": false,
     "start_time": "2025-08-19T14:51:13.824655",
     "status": "completed"
    },
    "tags": []
   },
   "outputs": [],
   "source": [
    "class MonoDTR(nn.Module):\n",
    "    def __init__(self, network_cfg):\n",
    "        super(MonoDTR, self).__init__()\n",
    "\n",
    "        self.obj_types = network_cfg.obj_types\n",
    "\n",
    "        self.build_head(network_cfg)\n",
    "\n",
    "        self.build_core(network_cfg)\n",
    "\n",
    "        self.network_cfg = network_cfg\n",
    "\n",
    "    def build_core(self, network_cfg):\n",
    "        self.mono_core = MonoDTRCore(network_cfg.mono_backbone)\n",
    "\n",
    "    def build_head(self, network_cfg):\n",
    "        self.bbox_head = AnchorBasedDetection3DHead(\n",
    "            **(network_cfg.head)\n",
    "        )\n",
    "        self.depth_loss = DepthFocalLoss(96)\n",
    "\n",
    "    def train_forward(self, left_images, annotations, P2, depth_gt=None):\n",
    "        \n",
    "        features, depth = self.mono_core(dict(image=left_images, P2=P2))\n",
    "        \n",
    "        depth_output   = depth\n",
    "        \n",
    "        features = features.contiguous()\n",
    "        P2 = P2.contiguous()\n",
    "        left_images = left_images.contiguous()\n",
    "        \n",
    "        try:\n",
    "            cls_preds, reg_preds = self.bbox_head(\n",
    "                dict(\n",
    "                    features=features,\n",
    "                    P2=P2,\n",
    "                    image=left_images\n",
    "                )\n",
    "            )\n",
    "        except RuntimeError as e:\n",
    "            print(f\"RuntimeError: {e}\")\n",
    "            raise\n",
    "            \n",
    "        anchors = self.bbox_head.get_anchor(left_images, P2)\n",
    "\n",
    "        cls_loss, reg_loss, loss_dict = self.bbox_head.loss(cls_preds, reg_preds, anchors, annotations, P2)\n",
    "        \n",
    "        depth_gt = bin_depths(depth_gt, mode = \"LID\", depth_min=1, depth_max=80, num_bins=96, target=True)\n",
    "\n",
    "        if reg_loss.mean() > 0 and not depth_gt is None and not depth_output is None:\n",
    "            \n",
    "            depth_gt = depth_gt.unsqueeze(1)\n",
    "            depth_loss = 1.0 * self.depth_loss(depth_output, depth_gt)\n",
    "            loss_dict['depth_loss'] = depth_loss\n",
    "            reg_loss += depth_loss\n",
    "\n",
    "            self.depth_output = depth_output.detach()\n",
    "        else:\n",
    "            loss_dict['depth_loss'] = torch.zeros_like(reg_loss)\n",
    "        return cls_loss, reg_loss, loss_dict\n",
    "\n",
    "    def test_forward(self, left_images, P2):\n",
    "        assert left_images.shape[0] == 1 # we recommmend image batch size = 1 for testing\n",
    "\n",
    "        features, _ = self.mono_core(dict(image=left_images, P2=P2))\n",
    "        \n",
    "        cls_preds, reg_preds = self.bbox_head(\n",
    "                dict(\n",
    "                    features=features,\n",
    "                    P2=P2,\n",
    "                    image=left_images\n",
    "                )\n",
    "            )\n",
    "\n",
    "        anchors = self.bbox_head.get_anchor(left_images, P2)\n",
    "\n",
    "        scores, bboxes, cls_indexes = self.bbox_head.get_bboxes(cls_preds, reg_preds, anchors, P2, left_images)\n",
    "        \n",
    "        return scores, bboxes, cls_indexes\n",
    "\n",
    "    def forward(self, inputs):\n",
    "\n",
    "        if isinstance(inputs, list) and len(inputs) >= 3:\n",
    "            return self.train_forward(*inputs)\n",
    "        else:\n",
    "            return self.test_forward(*inputs)"
   ]
  },
  {
   "cell_type": "code",
   "execution_count": 20,
   "id": "f05a5c2e",
   "metadata": {
    "execution": {
     "iopub.execute_input": "2025-08-19T14:51:13.850260Z",
     "iopub.status.busy": "2025-08-19T14:51:13.850063Z",
     "iopub.status.idle": "2025-08-19T14:51:13.885252Z",
     "shell.execute_reply": "2025-08-19T14:51:13.884627Z"
    },
    "papermill": {
     "duration": 0.041786,
     "end_time": "2025-08-19T14:51:13.886492",
     "exception": false,
     "start_time": "2025-08-19T14:51:13.844706",
     "status": "completed"
    },
    "tags": []
   },
   "outputs": [],
   "source": [
    "import os\n",
    "import sys\n",
    "import numpy as np\n",
    "from easydict import EasyDict\n",
    "from tqdm import tqdm\n",
    "from fire import Fire\n",
    "import coloredlogs\n",
    "import logging\n",
    "import torch\n",
    "from torch.utils.data import DataLoader\n",
    "from torch.utils.tensorboard import SummaryWriter\n",
    "\n",
    "from _path_init import *\n",
    "from visualDet3D.networks.utils.registry import DETECTOR_DICT, DATASET_DICT, PIPELINE_DICT\n",
    "from visualDet3D.networks.utils.utils import BackProjection, BBox3dProjector, get_num_parameters\n",
    "from visualDet3D.evaluator.kitti.evaluate import evaluate\n",
    "import visualDet3D.data.kitti.dataset\n",
    "from visualDet3D.utils.timer import Timer\n",
    "from visualDet3D.utils.utils import LossLogger, cfg_from_file\n",
    "from visualDet3D.networks.optimizers import optimizers, schedulers"
   ]
  },
  {
   "cell_type": "code",
   "execution_count": 21,
   "id": "e7a343bc",
   "metadata": {
    "execution": {
     "iopub.execute_input": "2025-08-19T14:51:13.898263Z",
     "iopub.status.busy": "2025-08-19T14:51:13.898062Z",
     "iopub.status.idle": "2025-08-19T14:51:13.915210Z",
     "shell.execute_reply": "2025-08-19T14:51:13.914577Z"
    },
    "papermill": {
     "duration": 0.024928,
     "end_time": "2025-08-19T14:51:13.916591",
     "exception": false,
     "start_time": "2025-08-19T14:51:13.891663",
     "status": "completed"
    },
    "tags": []
   },
   "outputs": [],
   "source": [
    "from collections import OrderedDict  # Add this import\n",
    "def main(config=\"/kaggle/input/monodtr-library-ver2/MonoDTR/config/config.py\", experiment_name=\"default\", world_size=1, local_rank=-1):\n",
    "    \"\"\"Main function for the training script.\n",
    "\n",
    "    KeywordArgs:\n",
    "        config (str): Path to config file.\n",
    "        experiment_name (str): Custom name for the experitment, only used in tensorboard.\n",
    "        world_size (int): Number of total subprocesses in distributed training. \n",
    "        local_rank: Rank of the process. Should not be manually assigned. 0-N for ranks in distributed training (only process 0 will print info and perform testing). -1 for single training. \n",
    "    \"\"\"\n",
    "\n",
    "    ## Get config\n",
    "    cfg = cfg_from_file(config)\n",
    "\n",
    "    ## Collect distributed(or not) information\n",
    "    cfg.dist = EasyDict()\n",
    "    cfg.dist.world_size = world_size\n",
    "    cfg.dist.local_rank = local_rank\n",
    "    is_distributed = local_rank >= 0 # local_rank < 0 -> single training\n",
    "    is_logging     = local_rank <= 0 # only log and test with main process\n",
    "    is_evaluating  = local_rank <= 0\n",
    "\n",
    "    ## Setup writer if local_rank > 0\n",
    "    recorder_dir = os.path.join(cfg.path.log_path, experiment_name + f\"config={config}\")\n",
    "    if is_logging: # writer exists only if not distributed and local rank is smaller\n",
    "        ## Clean up the dir if it exists before\n",
    "        if os.path.isdir(recorder_dir):\n",
    "            os.system(\"rm -r {}\".format(recorder_dir))\n",
    "            print(\"clean up the recorder directory of {}\".format(recorder_dir))\n",
    "        writer = SummaryWriter(recorder_dir)\n",
    "\n",
    "        ## Record config object using pprint\n",
    "        import pprint\n",
    "\n",
    "        formatted_cfg = pprint.pformat(cfg)\n",
    "        writer.add_text(\"config.py\", formatted_cfg.replace(' ', '&nbsp;').replace('\\n', '  \\n')) # add space for markdown style in tensorboard text\n",
    "    else:\n",
    "        writer = None\n",
    "\n",
    "    ## Set up GPU and distribution process\n",
    "    if is_distributed:\n",
    "        cfg.trainer.gpu = local_rank # local_rank will overwrite the GPU in configure file\n",
    "    gpu = min(cfg.trainer.gpu, torch.cuda.device_count() - 1)\n",
    "    torch.backends.cudnn.benchmark = getattr(cfg.trainer, 'cudnn', False)\n",
    "    torch.cuda.set_device(gpu)\n",
    "    if is_distributed:\n",
    "        torch.distributed.init_process_group(backend='nccl', init_method='env://')\n",
    "    print(local_rank)\n",
    " \n",
    "    ## define datasets and dataloader.\n",
    "    dataset_train = DATASET_DICT[cfg.data.train_dataset](cfg)\n",
    "    dataset_val = DATASET_DICT[cfg.data.val_dataset](cfg, \"validation\")\n",
    "\n",
    "    dataloader_train = DataLoader(dataset_train, num_workers=cfg.data.num_workers,\n",
    "                                  batch_size=cfg.data.batch_size, collate_fn=dataset_train.collate_fn, shuffle=local_rank<0, drop_last=True,\n",
    "                                  sampler=torch.utils.data.DistributedSampler(dataset_train, num_replicas=world_size, rank=local_rank, shuffle=True) if local_rank >= 0 else None)\n",
    "    dataloader_val = DataLoader(dataset_val, num_workers=cfg.data.num_workers,\n",
    "                                batch_size=cfg.data.batch_size, collate_fn=dataset_val.collate_fn, shuffle=False, drop_last=True)\n",
    "\n",
    "    ## Create the model\n",
    "    # detector = DETECTOR_DICT[cfg.detector.name](cfg.detector)\n",
    "    detector = MonoDTR(cfg.detector)\n",
    "\n",
    "    # # this is for load training checkpoint\n",
    "    state_dict_lasted = torch.load(\"/kaggle/input/checkpoint/MonoDTR_latest.pth\", map_location='cpu')\n",
    "    detector.load_state_dict(state_dict_lasted)\n",
    "    \n",
    "    # this is for load pretrain checkpoint\n",
    "    state_dict_pretrain = torch.load(\"/kaggle/input/pretrain-monodtr-base/MonoDTR.pth\", map_location='cpu')\n",
    "    detector.load_state_dict(state_dict_pretrain, strict=False)\n",
    "    \n",
    "    # Filter out incompatible keys\n",
    "    new_state_dict = OrderedDict()\n",
    "    loaded_keys = []  # Track which parameters are loaded\n",
    "    for k, v in state_dict_pretrain.items():\n",
    "        if k in detector.state_dict() and v.shape == detector.state_dict()[k].shape:\n",
    "            new_state_dict[k] = v\n",
    "            loaded_keys.append(k)  # Record loaded keys\n",
    "    \n",
    "    # detector.load_state_dict(new_state_dict, strict=False)\n",
    "    \n",
    "    # Freeze specific layers in the Swin-T backbone (first two stages)\n",
    "    for name, param in detector.named_parameters():\n",
    "        # print(name)\n",
    "        if name in loaded_keys:\n",
    "            param.requires_grad = False  # Freeze loaded weights\n",
    "        elif name.startswith('mono_core.backbone.layers_0'):\n",
    "        # elif name.startswith('mono_core.backbone.layers_0') or name.startswith('mono_core.backbone.layers_1') or name.startswith('mono_core.backbone.layers_2'):\n",
    "            param.requires_grad = True  # Freeze first two stages of Swin-T backbone\n",
    "        else:\n",
    "            param.requires_grad = False\n",
    "\n",
    "    for name, param in detector.named_parameters():\n",
    "        if param.requires_grad == True:\n",
    "            print(f\"Parameter {name} is trainable\")\n",
    "            \n",
    "            \n",
    "    ## Convert to cuda\n",
    "    if is_distributed:\n",
    "        detector = torch.nn.SyncBatchNorm.convert_sync_batchnorm(detector)\n",
    "        detector = torch.nn.parallel.DistributedDataParallel(detector.cuda(), device_ids=[gpu], output_device=gpu)\n",
    "    else:\n",
    "        detector = detector.cuda()\n",
    "    detector.train()\n",
    "\n",
    "    ## Record basic information of the model\n",
    "    if is_logging:\n",
    "        string1 = detector.__str__().replace(' ', '&nbsp;').replace('\\n', '  \\n')\n",
    "        writer.add_text(\"model structure\", string1) # add space for markdown style in tensorboard text\n",
    "        num_parameters = get_num_parameters(detector)\n",
    "        print(f'number of trained parameters of the model: {num_parameters}')\n",
    "    \n",
    "    ## define optimizer and weight decay\n",
    "    optimizer = optimizers.build_optimizer(cfg.optimizer, detector)\n",
    "\n",
    "    ## define scheduler\n",
    "    # scheduler = torch.optim.lr_scheduler.CosineAnnealingLR(optimizer, cfg.trainer.max_epochs, cfg.optimizer.lr_target)\n",
    "    scheduler_config = getattr(cfg, 'scheduler', None)\n",
    "    scheduler = schedulers.build_scheduler(scheduler_config, optimizer)\n",
    "    is_iter_based = getattr(scheduler_config, \"is_iter_based\", False)\n",
    "\n",
    "    ## define loss logger\n",
    "    training_loss_logger =  LossLogger(writer, 'train') if is_logging else None\n",
    "\n",
    "    ## training pipeline\n",
    "    if 'training_func' in cfg.trainer:\n",
    "        training_dection = PIPELINE_DICT[cfg.trainer.training_func]\n",
    "    else:\n",
    "        raise KeyError\n",
    "\n",
    "    ## Get evaluation pipeline\n",
    "    if 'evaluate_func' in cfg.trainer:\n",
    "        evaluate_detection = PIPELINE_DICT[cfg.trainer.evaluate_func]\n",
    "        print(\"Found evaluate function {}\".format(cfg.trainer.evaluate_func))\n",
    "    else:\n",
    "        evaluate_detection = None\n",
    "        print(\"Evaluate function not found\")\n",
    "\n",
    "\n",
    "    ## timer is used to estimate eta\n",
    "    timer = Timer()\n",
    "\n",
    "    print('Num training images: {}'.format(len(dataset_train)))\n",
    "\n",
    "    global_step = 0\n",
    "    # for epoch_num in range(cfg.trainer.max_epochs):\n",
    "    for epoch_num in range(15):\n",
    "        ## Start training for one epoch\n",
    "        torch.cuda.empty_cache()\n",
    "        detector.train()\n",
    "        if training_loss_logger:\n",
    "            training_loss_logger.reset()\n",
    "        for iter_num, data in enumerate(dataloader_train):\n",
    "            training_dection(data, detector, optimizer, writer, training_loss_logger, global_step, epoch_num, cfg, iter_num)\n",
    "            # training_dection(data, detector, optimizer, writer, training_loss_logger, global_step, epoch_num, cfg)\n",
    "\n",
    "            global_step += 1\n",
    "            if (iter_num + 1) % cfg.trainer.accumulation_steps == 0:\n",
    "                if is_iter_based:\n",
    "                    scheduler.step()\n",
    "    \n",
    "                if is_logging and global_step % cfg.trainer.disp_iter == 0:\n",
    "                    ## Log loss, print out and write to tensorboard in main process\n",
    "                    if 'total_loss' not in training_loss_logger.loss_stats:\n",
    "                        print(f\"\\nIn epoch {epoch_num}, iteration:{iter_num}, global_step:{global_step}, total_loss not found in logger.\")\n",
    "                    else:\n",
    "                        log_str = 'Epoch: {} | Iteration: {}  | Running loss: {:1.5f} | eta:{}'.format(\n",
    "                            epoch_num, iter_num, training_loss_logger.loss_stats['total_loss'].avg,\n",
    "                            timer.compute_eta(global_step, len(dataloader_train) * cfg.trainer.max_epochs))\n",
    "                        print(log_str, end='\\r')\n",
    "                        writer.add_text(\"training_log/train\", log_str, global_step)\n",
    "                        training_loss_logger.log(global_step)\n",
    "\n",
    "        if not is_iter_based:\n",
    "            scheduler.step()\n",
    "        ## save model in main process if needed\n",
    "        if is_logging:\n",
    "            torch.save(detector.module.state_dict() if is_distributed else detector.state_dict(), os.path.join(\n",
    "                cfg.path.checkpoint_path, '{}_latest.pth'.format(\n",
    "                    cfg.detector.name)\n",
    "                )\n",
    "            )\n",
    "        if is_logging and (epoch_num + 1) % cfg.trainer.save_iter == 0:\n",
    "            torch.save(detector.module.state_dict() if is_distributed else detector.state_dict(), os.path.join(\n",
    "                cfg.path.checkpoint_path, '{}_{}.pth'.format(\n",
    "                    cfg.detector.name,epoch_num)\n",
    "                )\n",
    "            )\n",
    "\n",
    "        ## test model in main process if needed\n",
    "        # if is_evaluating and evaluate_detection is not None and cfg.trainer.test_iter > 0 and (epoch_num + 1) % cfg.trainer.test_iter == 0:\n",
    "        if is_evaluating and evaluate_detection is not None and cfg.trainer.test_iter > 0 and (epoch_num + 1) % 5 == 0:\n",
    "            print(\"\\n/**** start testing after training epoch {} ******/\".format(epoch_num))\n",
    "            evaluate_detection(cfg, detector.module if is_distributed else detector, dataset_val, writer, epoch_num)\n",
    "            print(\"/**** finish testing after training epoch {} ******/\".format(epoch_num))\n",
    "\n",
    "        if is_distributed:\n",
    "            torch.distributed.barrier() # wait untill all finish a epoch\n",
    "\n",
    "        if is_logging:\n",
    "            writer.flush()"
   ]
  },
  {
   "cell_type": "code",
   "execution_count": 22,
   "id": "a52f76d3",
   "metadata": {
    "execution": {
     "iopub.execute_input": "2025-08-19T14:51:13.927215Z",
     "iopub.status.busy": "2025-08-19T14:51:13.927013Z",
     "iopub.status.idle": "2025-08-19T14:51:13.930791Z",
     "shell.execute_reply": "2025-08-19T14:51:13.930076Z"
    },
    "papermill": {
     "duration": 0.010284,
     "end_time": "2025-08-19T14:51:13.931949",
     "exception": false,
     "start_time": "2025-08-19T14:51:13.921665",
     "status": "completed"
    },
    "tags": []
   },
   "outputs": [],
   "source": [
    "def run_training():\n",
    "    config_path = \"/kaggle/input/monodtr-library-ver2/MonoDTR/config/config.py\"  # Path to your config file\n",
    "    experiment_name = \"EXP_NAME\"  # Use the defined experiment name\n",
    "    world_size = 1  # For single GPU training\n",
    "    local_rank = 0  # Local rank set to 0 as per your command\n",
    "    %env PYTORCH_CUDA_ALLOC_CONF=expandable_segments:True\n",
    "    main(config=config_path, experiment_name=experiment_name, world_size=world_size)"
   ]
  },
  {
   "cell_type": "code",
   "execution_count": 23,
   "id": "48ad2881",
   "metadata": {
    "execution": {
     "iopub.execute_input": "2025-08-19T14:51:13.942204Z",
     "iopub.status.busy": "2025-08-19T14:51:13.942006Z",
     "iopub.status.idle": "2025-08-19T21:54:57.091014Z",
     "shell.execute_reply": "2025-08-19T21:54:57.090036Z"
    },
    "papermill": {
     "duration": 25423.155728,
     "end_time": "2025-08-19T21:54:57.092596",
     "exception": false,
     "start_time": "2025-08-19T14:51:13.936868",
     "status": "completed"
    },
    "tags": []
   },
   "outputs": [
    {
     "name": "stdout",
     "output_type": "stream",
     "text": [
      "env: PYTORCH_CUDA_ALLOC_CONF=expandable_segments:True\n",
      "-1\n"
     ]
    },
    {
     "name": "stderr",
     "output_type": "stream",
     "text": [
      "/usr/local/lib/python3.10/dist-packages/torch/utils/data/dataloader.py:617: UserWarning: This DataLoader will create 8 worker processes in total. Our suggested max number of worker in current system is 4, which is smaller than what this DataLoader is going to create. Please be aware that excessive worker creation might get DataLoader running slow or even freeze, lower the worker number to avoid potential slowness/freeze if necessary.\n",
      "  warnings.warn(\n"
     ]
    },
    {
     "data": {
      "application/vnd.jupyter.widget-view+json": {
       "model_id": "43f6e819083b41c897737c4bbfd52569",
       "version_major": 2,
       "version_minor": 0
      },
      "text/plain": [
       "model.safetensors:   0%|          | 0.00/114M [00:00<?, ?B/s]"
      ]
     },
     "metadata": {},
     "output_type": "display_data"
    },
    {
     "name": "stderr",
     "output_type": "stream",
     "text": [
      "<ipython-input-21-7778c21f1db9>:65: FutureWarning: You are using `torch.load` with `weights_only=False` (the current default value), which uses the default pickle module implicitly. It is possible to construct malicious pickle data which will execute arbitrary code during unpickling (See https://github.com/pytorch/pytorch/blob/main/SECURITY.md#untrusted-models for more details). In a future release, the default value for `weights_only` will be flipped to `True`. This limits the functions that could be executed during unpickling. Arbitrary objects will no longer be allowed to be loaded via this mode unless they are explicitly allowlisted by the user via `torch.serialization.add_safe_globals`. We recommend you start setting `weights_only=True` for any use case where you don't have full control of the loaded file. Please open an issue on GitHub for any issues related to this experimental feature.\n",
      "  state_dict_lasted = torch.load(\"/kaggle/input/checkpoint/MonoDTR_latest.pth\", map_location='cpu')\n",
      "<ipython-input-21-7778c21f1db9>:69: FutureWarning: You are using `torch.load` with `weights_only=False` (the current default value), which uses the default pickle module implicitly. It is possible to construct malicious pickle data which will execute arbitrary code during unpickling (See https://github.com/pytorch/pytorch/blob/main/SECURITY.md#untrusted-models for more details). In a future release, the default value for `weights_only` will be flipped to `True`. This limits the functions that could be executed during unpickling. Arbitrary objects will no longer be allowed to be loaded via this mode unless they are explicitly allowlisted by the user via `torch.serialization.add_safe_globals`. We recommend you start setting `weights_only=True` for any use case where you don't have full control of the loaded file. Please open an issue on GitHub for any issues related to this experimental feature.\n",
      "  state_dict_pretrain = torch.load(\"/kaggle/input/pretrain-monodtr-base/MonoDTR.pth\", map_location='cpu')\n"
     ]
    },
    {
     "name": "stdout",
     "output_type": "stream",
     "text": [
      "Parameter mono_core.backbone.layers_0.blocks.0.norm1.weight is trainable\n",
      "Parameter mono_core.backbone.layers_0.blocks.0.norm1.bias is trainable\n",
      "Parameter mono_core.backbone.layers_0.blocks.0.attn.relative_position_bias_table is trainable\n",
      "Parameter mono_core.backbone.layers_0.blocks.0.attn.qkv.weight is trainable\n",
      "Parameter mono_core.backbone.layers_0.blocks.0.attn.qkv.bias is trainable\n",
      "Parameter mono_core.backbone.layers_0.blocks.0.attn.proj.weight is trainable\n",
      "Parameter mono_core.backbone.layers_0.blocks.0.attn.proj.bias is trainable\n",
      "Parameter mono_core.backbone.layers_0.blocks.0.norm2.weight is trainable\n",
      "Parameter mono_core.backbone.layers_0.blocks.0.norm2.bias is trainable\n",
      "Parameter mono_core.backbone.layers_0.blocks.0.mlp.fc1.weight is trainable\n",
      "Parameter mono_core.backbone.layers_0.blocks.0.mlp.fc1.bias is trainable\n",
      "Parameter mono_core.backbone.layers_0.blocks.0.mlp.fc2.weight is trainable\n",
      "Parameter mono_core.backbone.layers_0.blocks.0.mlp.fc2.bias is trainable\n",
      "Parameter mono_core.backbone.layers_0.blocks.1.norm1.weight is trainable\n",
      "Parameter mono_core.backbone.layers_0.blocks.1.norm1.bias is trainable\n",
      "Parameter mono_core.backbone.layers_0.blocks.1.attn.relative_position_bias_table is trainable\n",
      "Parameter mono_core.backbone.layers_0.blocks.1.attn.qkv.weight is trainable\n",
      "Parameter mono_core.backbone.layers_0.blocks.1.attn.qkv.bias is trainable\n",
      "Parameter mono_core.backbone.layers_0.blocks.1.attn.proj.weight is trainable\n",
      "Parameter mono_core.backbone.layers_0.blocks.1.attn.proj.bias is trainable\n",
      "Parameter mono_core.backbone.layers_0.blocks.1.norm2.weight is trainable\n",
      "Parameter mono_core.backbone.layers_0.blocks.1.norm2.bias is trainable\n",
      "Parameter mono_core.backbone.layers_0.blocks.1.mlp.fc1.weight is trainable\n",
      "Parameter mono_core.backbone.layers_0.blocks.1.mlp.fc1.bias is trainable\n",
      "Parameter mono_core.backbone.layers_0.blocks.1.mlp.fc2.weight is trainable\n",
      "Parameter mono_core.backbone.layers_0.blocks.1.mlp.fc2.bias is trainable\n",
      "number of trained parameters of the model: 224694\n",
      "Found evaluate function evaluate_kitti_obj\n",
      "Num training images: 3712\n"
     ]
    },
    {
     "name": "stderr",
     "output_type": "stream",
     "text": [
      "/kaggle/input/monodtr-library-ver2/MonoDTR/visualDet3D/data/kitti/dataset/mono_dataset.py:169: UserWarning: Creating a tensor from a list of numpy.ndarrays is extremely slow. Please consider converting the list to a single numpy.ndarray with numpy.array() before converting to a tensor. (Triggered internally at ../torch/csrc/utils/tensor_new.cpp:278.)\n",
      "  return torch.from_numpy(rgb_images).float(), torch.tensor(calib).float(), label, bbox2ds, bbox3ds, torch.tensor(depths).float()\n",
      "/kaggle/input/monodtr-library-ver2/MonoDTR/visualDet3D/data/kitti/dataset/mono_dataset.py:169: UserWarning: Creating a tensor from a list of numpy.ndarrays is extremely slow. Please consider converting the list to a single numpy.ndarray with numpy.array() before converting to a tensor. (Triggered internally at ../torch/csrc/utils/tensor_new.cpp:278.)\n",
      "  return torch.from_numpy(rgb_images).float(), torch.tensor(calib).float(), label, bbox2ds, bbox3ds, torch.tensor(depths).float()\n",
      "/kaggle/input/monodtr-library-ver2/MonoDTR/visualDet3D/data/kitti/dataset/mono_dataset.py:169: UserWarning: Creating a tensor from a list of numpy.ndarrays is extremely slow. Please consider converting the list to a single numpy.ndarray with numpy.array() before converting to a tensor. (Triggered internally at ../torch/csrc/utils/tensor_new.cpp:278.)\n",
      "  return torch.from_numpy(rgb_images).float(), torch.tensor(calib).float(), label, bbox2ds, bbox3ds, torch.tensor(depths).float()\n",
      "/kaggle/input/monodtr-library-ver2/MonoDTR/visualDet3D/data/kitti/dataset/mono_dataset.py:169: UserWarning: Creating a tensor from a list of numpy.ndarrays is extremely slow. Please consider converting the list to a single numpy.ndarray with numpy.array() before converting to a tensor. (Triggered internally at ../torch/csrc/utils/tensor_new.cpp:278.)\n",
      "  return torch.from_numpy(rgb_images).float(), torch.tensor(calib).float(), label, bbox2ds, bbox3ds, torch.tensor(depths).float()\n",
      "/kaggle/input/monodtr-library-ver2/MonoDTR/visualDet3D/data/kitti/dataset/mono_dataset.py:169: UserWarning: Creating a tensor from a list of numpy.ndarrays is extremely slow. Please consider converting the list to a single numpy.ndarray with numpy.array() before converting to a tensor. (Triggered internally at ../torch/csrc/utils/tensor_new.cpp:278.)\n",
      "  return torch.from_numpy(rgb_images).float(), torch.tensor(calib).float(), label, bbox2ds, bbox3ds, torch.tensor(depths).float()\n",
      "/kaggle/input/monodtr-library-ver2/MonoDTR/visualDet3D/data/kitti/dataset/mono_dataset.py:169: UserWarning: Creating a tensor from a list of numpy.ndarrays is extremely slow. Please consider converting the list to a single numpy.ndarray with numpy.array() before converting to a tensor. (Triggered internally at ../torch/csrc/utils/tensor_new.cpp:278.)\n",
      "  return torch.from_numpy(rgb_images).float(), torch.tensor(calib).float(), label, bbox2ds, bbox3ds, torch.tensor(depths).float()\n",
      "/kaggle/input/monodtr-library-ver2/MonoDTR/visualDet3D/data/kitti/dataset/mono_dataset.py:169: UserWarning: Creating a tensor from a list of numpy.ndarrays is extremely slow. Please consider converting the list to a single numpy.ndarray with numpy.array() before converting to a tensor. (Triggered internally at ../torch/csrc/utils/tensor_new.cpp:278.)\n",
      "  return torch.from_numpy(rgb_images).float(), torch.tensor(calib).float(), label, bbox2ds, bbox3ds, torch.tensor(depths).float()\n",
      "/kaggle/input/monodtr-library-ver2/MonoDTR/visualDet3D/data/kitti/dataset/mono_dataset.py:169: UserWarning: Creating a tensor from a list of numpy.ndarrays is extremely slow. Please consider converting the list to a single numpy.ndarray with numpy.array() before converting to a tensor. (Triggered internally at ../torch/csrc/utils/tensor_new.cpp:278.)\n",
      "  return torch.from_numpy(rgb_images).float(), torch.tensor(calib).float(), label, bbox2ds, bbox3ds, torch.tensor(depths).float()\n"
     ]
    },
    {
     "name": "stdout",
     "output_type": "stream",
     "text": [
      "Epoch: 0 | Iteration: 3599  | Running loss: 0.17166 | eta:50.24h\r"
     ]
    },
    {
     "name": "stderr",
     "output_type": "stream",
     "text": [
      "/kaggle/input/monodtr-library-ver2/MonoDTR/visualDet3D/data/kitti/dataset/mono_dataset.py:169: UserWarning: Creating a tensor from a list of numpy.ndarrays is extremely slow. Please consider converting the list to a single numpy.ndarray with numpy.array() before converting to a tensor. (Triggered internally at ../torch/csrc/utils/tensor_new.cpp:278.)\n",
      "  return torch.from_numpy(rgb_images).float(), torch.tensor(calib).float(), label, bbox2ds, bbox3ds, torch.tensor(depths).float()\n",
      "/kaggle/input/monodtr-library-ver2/MonoDTR/visualDet3D/data/kitti/dataset/mono_dataset.py:169: UserWarning: Creating a tensor from a list of numpy.ndarrays is extremely slow. Please consider converting the list to a single numpy.ndarray with numpy.array() before converting to a tensor. (Triggered internally at ../torch/csrc/utils/tensor_new.cpp:278.)\n",
      "  return torch.from_numpy(rgb_images).float(), torch.tensor(calib).float(), label, bbox2ds, bbox3ds, torch.tensor(depths).float()\n",
      "/kaggle/input/monodtr-library-ver2/MonoDTR/visualDet3D/data/kitti/dataset/mono_dataset.py:169: UserWarning: Creating a tensor from a list of numpy.ndarrays is extremely slow. Please consider converting the list to a single numpy.ndarray with numpy.array() before converting to a tensor. (Triggered internally at ../torch/csrc/utils/tensor_new.cpp:278.)\n",
      "  return torch.from_numpy(rgb_images).float(), torch.tensor(calib).float(), label, bbox2ds, bbox3ds, torch.tensor(depths).float()\n",
      "/kaggle/input/monodtr-library-ver2/MonoDTR/visualDet3D/data/kitti/dataset/mono_dataset.py:169: UserWarning: Creating a tensor from a list of numpy.ndarrays is extremely slow. Please consider converting the list to a single numpy.ndarray with numpy.array() before converting to a tensor. (Triggered internally at ../torch/csrc/utils/tensor_new.cpp:278.)\n",
      "  return torch.from_numpy(rgb_images).float(), torch.tensor(calib).float(), label, bbox2ds, bbox3ds, torch.tensor(depths).float()\n",
      "/kaggle/input/monodtr-library-ver2/MonoDTR/visualDet3D/data/kitti/dataset/mono_dataset.py:169: UserWarning: Creating a tensor from a list of numpy.ndarrays is extremely slow. Please consider converting the list to a single numpy.ndarray with numpy.array() before converting to a tensor. (Triggered internally at ../torch/csrc/utils/tensor_new.cpp:278.)\n",
      "  return torch.from_numpy(rgb_images).float(), torch.tensor(calib).float(), label, bbox2ds, bbox3ds, torch.tensor(depths).float()\n",
      "/kaggle/input/monodtr-library-ver2/MonoDTR/visualDet3D/data/kitti/dataset/mono_dataset.py:169: UserWarning: Creating a tensor from a list of numpy.ndarrays is extremely slow. Please consider converting the list to a single numpy.ndarray with numpy.array() before converting to a tensor. (Triggered internally at ../torch/csrc/utils/tensor_new.cpp:278.)\n",
      "  return torch.from_numpy(rgb_images).float(), torch.tensor(calib).float(), label, bbox2ds, bbox3ds, torch.tensor(depths).float()\n",
      "/kaggle/input/monodtr-library-ver2/MonoDTR/visualDet3D/data/kitti/dataset/mono_dataset.py:169: UserWarning: Creating a tensor from a list of numpy.ndarrays is extremely slow. Please consider converting the list to a single numpy.ndarray with numpy.array() before converting to a tensor. (Triggered internally at ../torch/csrc/utils/tensor_new.cpp:278.)\n",
      "  return torch.from_numpy(rgb_images).float(), torch.tensor(calib).float(), label, bbox2ds, bbox3ds, torch.tensor(depths).float()\n",
      "/kaggle/input/monodtr-library-ver2/MonoDTR/visualDet3D/data/kitti/dataset/mono_dataset.py:169: UserWarning: Creating a tensor from a list of numpy.ndarrays is extremely slow. Please consider converting the list to a single numpy.ndarray with numpy.array() before converting to a tensor. (Triggered internally at ../torch/csrc/utils/tensor_new.cpp:278.)\n",
      "  return torch.from_numpy(rgb_images).float(), torch.tensor(calib).float(), label, bbox2ds, bbox3ds, torch.tensor(depths).float()\n"
     ]
    },
    {
     "name": "stdout",
     "output_type": "stream",
     "text": [
      "Epoch: 1 | Iteration: 3687  | Running loss: 0.16997 | eta:49.83h\r"
     ]
    },
    {
     "name": "stderr",
     "output_type": "stream",
     "text": [
      "/kaggle/input/monodtr-library-ver2/MonoDTR/visualDet3D/data/kitti/dataset/mono_dataset.py:169: UserWarning: Creating a tensor from a list of numpy.ndarrays is extremely slow. Please consider converting the list to a single numpy.ndarray with numpy.array() before converting to a tensor. (Triggered internally at ../torch/csrc/utils/tensor_new.cpp:278.)\n",
      "  return torch.from_numpy(rgb_images).float(), torch.tensor(calib).float(), label, bbox2ds, bbox3ds, torch.tensor(depths).float()\n",
      "/kaggle/input/monodtr-library-ver2/MonoDTR/visualDet3D/data/kitti/dataset/mono_dataset.py:169: UserWarning: Creating a tensor from a list of numpy.ndarrays is extremely slow. Please consider converting the list to a single numpy.ndarray with numpy.array() before converting to a tensor. (Triggered internally at ../torch/csrc/utils/tensor_new.cpp:278.)\n",
      "  return torch.from_numpy(rgb_images).float(), torch.tensor(calib).float(), label, bbox2ds, bbox3ds, torch.tensor(depths).float()\n",
      "/kaggle/input/monodtr-library-ver2/MonoDTR/visualDet3D/data/kitti/dataset/mono_dataset.py:169: UserWarning: Creating a tensor from a list of numpy.ndarrays is extremely slow. Please consider converting the list to a single numpy.ndarray with numpy.array() before converting to a tensor. (Triggered internally at ../torch/csrc/utils/tensor_new.cpp:278.)\n",
      "  return torch.from_numpy(rgb_images).float(), torch.tensor(calib).float(), label, bbox2ds, bbox3ds, torch.tensor(depths).float()\n",
      "/kaggle/input/monodtr-library-ver2/MonoDTR/visualDet3D/data/kitti/dataset/mono_dataset.py:169: UserWarning: Creating a tensor from a list of numpy.ndarrays is extremely slow. Please consider converting the list to a single numpy.ndarray with numpy.array() before converting to a tensor. (Triggered internally at ../torch/csrc/utils/tensor_new.cpp:278.)\n",
      "  return torch.from_numpy(rgb_images).float(), torch.tensor(calib).float(), label, bbox2ds, bbox3ds, torch.tensor(depths).float()\n",
      "/kaggle/input/monodtr-library-ver2/MonoDTR/visualDet3D/data/kitti/dataset/mono_dataset.py:169: UserWarning: Creating a tensor from a list of numpy.ndarrays is extremely slow. Please consider converting the list to a single numpy.ndarray with numpy.array() before converting to a tensor. (Triggered internally at ../torch/csrc/utils/tensor_new.cpp:278.)\n",
      "  return torch.from_numpy(rgb_images).float(), torch.tensor(calib).float(), label, bbox2ds, bbox3ds, torch.tensor(depths).float()\n",
      "/kaggle/input/monodtr-library-ver2/MonoDTR/visualDet3D/data/kitti/dataset/mono_dataset.py:169: UserWarning: Creating a tensor from a list of numpy.ndarrays is extremely slow. Please consider converting the list to a single numpy.ndarray with numpy.array() before converting to a tensor. (Triggered internally at ../torch/csrc/utils/tensor_new.cpp:278.)\n",
      "  return torch.from_numpy(rgb_images).float(), torch.tensor(calib).float(), label, bbox2ds, bbox3ds, torch.tensor(depths).float()\n",
      "/kaggle/input/monodtr-library-ver2/MonoDTR/visualDet3D/data/kitti/dataset/mono_dataset.py:169: UserWarning: Creating a tensor from a list of numpy.ndarrays is extremely slow. Please consider converting the list to a single numpy.ndarray with numpy.array() before converting to a tensor. (Triggered internally at ../torch/csrc/utils/tensor_new.cpp:278.)\n",
      "  return torch.from_numpy(rgb_images).float(), torch.tensor(calib).float(), label, bbox2ds, bbox3ds, torch.tensor(depths).float()\n",
      "/kaggle/input/monodtr-library-ver2/MonoDTR/visualDet3D/data/kitti/dataset/mono_dataset.py:169: UserWarning: Creating a tensor from a list of numpy.ndarrays is extremely slow. Please consider converting the list to a single numpy.ndarray with numpy.array() before converting to a tensor. (Triggered internally at ../torch/csrc/utils/tensor_new.cpp:278.)\n",
      "  return torch.from_numpy(rgb_images).float(), torch.tensor(calib).float(), label, bbox2ds, bbox3ds, torch.tensor(depths).float()\n"
     ]
    },
    {
     "name": "stdout",
     "output_type": "stream",
     "text": [
      "Epoch: 2 | Iteration: 3575  | Running loss: 0.17135 | eta:49.47h\r"
     ]
    },
    {
     "name": "stderr",
     "output_type": "stream",
     "text": [
      "/kaggle/input/monodtr-library-ver2/MonoDTR/visualDet3D/data/kitti/dataset/mono_dataset.py:169: UserWarning: Creating a tensor from a list of numpy.ndarrays is extremely slow. Please consider converting the list to a single numpy.ndarray with numpy.array() before converting to a tensor. (Triggered internally at ../torch/csrc/utils/tensor_new.cpp:278.)\n",
      "  return torch.from_numpy(rgb_images).float(), torch.tensor(calib).float(), label, bbox2ds, bbox3ds, torch.tensor(depths).float()\n",
      "/kaggle/input/monodtr-library-ver2/MonoDTR/visualDet3D/data/kitti/dataset/mono_dataset.py:169: UserWarning: Creating a tensor from a list of numpy.ndarrays is extremely slow. Please consider converting the list to a single numpy.ndarray with numpy.array() before converting to a tensor. (Triggered internally at ../torch/csrc/utils/tensor_new.cpp:278.)\n",
      "  return torch.from_numpy(rgb_images).float(), torch.tensor(calib).float(), label, bbox2ds, bbox3ds, torch.tensor(depths).float()\n",
      "/kaggle/input/monodtr-library-ver2/MonoDTR/visualDet3D/data/kitti/dataset/mono_dataset.py:169: UserWarning: Creating a tensor from a list of numpy.ndarrays is extremely slow. Please consider converting the list to a single numpy.ndarray with numpy.array() before converting to a tensor. (Triggered internally at ../torch/csrc/utils/tensor_new.cpp:278.)\n",
      "  return torch.from_numpy(rgb_images).float(), torch.tensor(calib).float(), label, bbox2ds, bbox3ds, torch.tensor(depths).float()\n",
      "/kaggle/input/monodtr-library-ver2/MonoDTR/visualDet3D/data/kitti/dataset/mono_dataset.py:169: UserWarning: Creating a tensor from a list of numpy.ndarrays is extremely slow. Please consider converting the list to a single numpy.ndarray with numpy.array() before converting to a tensor. (Triggered internally at ../torch/csrc/utils/tensor_new.cpp:278.)\n",
      "  return torch.from_numpy(rgb_images).float(), torch.tensor(calib).float(), label, bbox2ds, bbox3ds, torch.tensor(depths).float()\n",
      "/kaggle/input/monodtr-library-ver2/MonoDTR/visualDet3D/data/kitti/dataset/mono_dataset.py:169: UserWarning: Creating a tensor from a list of numpy.ndarrays is extremely slow. Please consider converting the list to a single numpy.ndarray with numpy.array() before converting to a tensor. (Triggered internally at ../torch/csrc/utils/tensor_new.cpp:278.)\n",
      "  return torch.from_numpy(rgb_images).float(), torch.tensor(calib).float(), label, bbox2ds, bbox3ds, torch.tensor(depths).float()\n",
      "/kaggle/input/monodtr-library-ver2/MonoDTR/visualDet3D/data/kitti/dataset/mono_dataset.py:169: UserWarning: Creating a tensor from a list of numpy.ndarrays is extremely slow. Please consider converting the list to a single numpy.ndarray with numpy.array() before converting to a tensor. (Triggered internally at ../torch/csrc/utils/tensor_new.cpp:278.)\n",
      "  return torch.from_numpy(rgb_images).float(), torch.tensor(calib).float(), label, bbox2ds, bbox3ds, torch.tensor(depths).float()\n",
      "/kaggle/input/monodtr-library-ver2/MonoDTR/visualDet3D/data/kitti/dataset/mono_dataset.py:169: UserWarning: Creating a tensor from a list of numpy.ndarrays is extremely slow. Please consider converting the list to a single numpy.ndarray with numpy.array() before converting to a tensor. (Triggered internally at ../torch/csrc/utils/tensor_new.cpp:278.)\n",
      "  return torch.from_numpy(rgb_images).float(), torch.tensor(calib).float(), label, bbox2ds, bbox3ds, torch.tensor(depths).float()\n",
      "/kaggle/input/monodtr-library-ver2/MonoDTR/visualDet3D/data/kitti/dataset/mono_dataset.py:169: UserWarning: Creating a tensor from a list of numpy.ndarrays is extremely slow. Please consider converting the list to a single numpy.ndarray with numpy.array() before converting to a tensor. (Triggered internally at ../torch/csrc/utils/tensor_new.cpp:278.)\n",
      "  return torch.from_numpy(rgb_images).float(), torch.tensor(calib).float(), label, bbox2ds, bbox3ds, torch.tensor(depths).float()\n"
     ]
    },
    {
     "name": "stdout",
     "output_type": "stream",
     "text": [
      "Epoch: 3 | Iteration: 3663  | Running loss: 0.17071 | eta:49.00h\r"
     ]
    },
    {
     "name": "stderr",
     "output_type": "stream",
     "text": [
      "/kaggle/input/monodtr-library-ver2/MonoDTR/visualDet3D/data/kitti/dataset/mono_dataset.py:169: UserWarning: Creating a tensor from a list of numpy.ndarrays is extremely slow. Please consider converting the list to a single numpy.ndarray with numpy.array() before converting to a tensor. (Triggered internally at ../torch/csrc/utils/tensor_new.cpp:278.)\n",
      "  return torch.from_numpy(rgb_images).float(), torch.tensor(calib).float(), label, bbox2ds, bbox3ds, torch.tensor(depths).float()\n",
      "/kaggle/input/monodtr-library-ver2/MonoDTR/visualDet3D/data/kitti/dataset/mono_dataset.py:169: UserWarning: Creating a tensor from a list of numpy.ndarrays is extremely slow. Please consider converting the list to a single numpy.ndarray with numpy.array() before converting to a tensor. (Triggered internally at ../torch/csrc/utils/tensor_new.cpp:278.)\n",
      "  return torch.from_numpy(rgb_images).float(), torch.tensor(calib).float(), label, bbox2ds, bbox3ds, torch.tensor(depths).float()\n",
      "/kaggle/input/monodtr-library-ver2/MonoDTR/visualDet3D/data/kitti/dataset/mono_dataset.py:169: UserWarning: Creating a tensor from a list of numpy.ndarrays is extremely slow. Please consider converting the list to a single numpy.ndarray with numpy.array() before converting to a tensor. (Triggered internally at ../torch/csrc/utils/tensor_new.cpp:278.)\n",
      "  return torch.from_numpy(rgb_images).float(), torch.tensor(calib).float(), label, bbox2ds, bbox3ds, torch.tensor(depths).float()\n",
      "/kaggle/input/monodtr-library-ver2/MonoDTR/visualDet3D/data/kitti/dataset/mono_dataset.py:169: UserWarning: Creating a tensor from a list of numpy.ndarrays is extremely slow. Please consider converting the list to a single numpy.ndarray with numpy.array() before converting to a tensor. (Triggered internally at ../torch/csrc/utils/tensor_new.cpp:278.)\n",
      "  return torch.from_numpy(rgb_images).float(), torch.tensor(calib).float(), label, bbox2ds, bbox3ds, torch.tensor(depths).float()\n",
      "/kaggle/input/monodtr-library-ver2/MonoDTR/visualDet3D/data/kitti/dataset/mono_dataset.py:169: UserWarning: Creating a tensor from a list of numpy.ndarrays is extremely slow. Please consider converting the list to a single numpy.ndarray with numpy.array() before converting to a tensor. (Triggered internally at ../torch/csrc/utils/tensor_new.cpp:278.)\n",
      "  return torch.from_numpy(rgb_images).float(), torch.tensor(calib).float(), label, bbox2ds, bbox3ds, torch.tensor(depths).float()\n",
      "/kaggle/input/monodtr-library-ver2/MonoDTR/visualDet3D/data/kitti/dataset/mono_dataset.py:169: UserWarning: Creating a tensor from a list of numpy.ndarrays is extremely slow. Please consider converting the list to a single numpy.ndarray with numpy.array() before converting to a tensor. (Triggered internally at ../torch/csrc/utils/tensor_new.cpp:278.)\n",
      "  return torch.from_numpy(rgb_images).float(), torch.tensor(calib).float(), label, bbox2ds, bbox3ds, torch.tensor(depths).float()\n",
      "/kaggle/input/monodtr-library-ver2/MonoDTR/visualDet3D/data/kitti/dataset/mono_dataset.py:169: UserWarning: Creating a tensor from a list of numpy.ndarrays is extremely slow. Please consider converting the list to a single numpy.ndarray with numpy.array() before converting to a tensor. (Triggered internally at ../torch/csrc/utils/tensor_new.cpp:278.)\n",
      "  return torch.from_numpy(rgb_images).float(), torch.tensor(calib).float(), label, bbox2ds, bbox3ds, torch.tensor(depths).float()\n",
      "/kaggle/input/monodtr-library-ver2/MonoDTR/visualDet3D/data/kitti/dataset/mono_dataset.py:169: UserWarning: Creating a tensor from a list of numpy.ndarrays is extremely slow. Please consider converting the list to a single numpy.ndarray with numpy.array() before converting to a tensor. (Triggered internally at ../torch/csrc/utils/tensor_new.cpp:278.)\n",
      "  return torch.from_numpy(rgb_images).float(), torch.tensor(calib).float(), label, bbox2ds, bbox3ds, torch.tensor(depths).float()\n"
     ]
    },
    {
     "name": "stdout",
     "output_type": "stream",
     "text": [
      "Epoch: 4 | Iteration: 3551  | Running loss: 0.17121 | eta:48.63h\r\n",
      "/**** start testing after training epoch 4 ******/\n",
      "rebuild /kaggle/working/MonoDTR/output/validation/data\n"
     ]
    },
    {
     "name": "stderr",
     "output_type": "stream",
     "text": [
      "  0%|          | 0/3769 [00:00<?, ?it/s]/kaggle/input/monodtr-library-ver2/MonoDTR/visualDet3D/data/kitti/dataset/mono_dataset.py:167: UserWarning: Creating a tensor from a list of numpy.ndarrays is extremely slow. Please consider converting the list to a single numpy.ndarray with numpy.array() before converting to a tensor. (Triggered internally at ../torch/csrc/utils/tensor_new.cpp:278.)\n",
      "  return torch.from_numpy(rgb_images).float(), torch.tensor(calib).float(), label, bbox2ds, bbox3ds\n",
      "/kaggle/input/monodtr-library-ver2/MonoDTR/visualDet3D/networks/pipelines/testers.py:24: UserWarning: To copy construct from a tensor, it is recommended to use sourceTensor.clone().detach() or sourceTensor.clone().detach().requires_grad_(True), rather than torch.tensor(sourceTensor).\n",
      "  scores, bbox, obj_index = module([images.cuda().float().contiguous(), torch.tensor(P2).cuda().float()])\n",
      "100%|██████████| 3769/3769 [14:59<00:00,  4.19it/s]\n",
      "/usr/local/lib/python3.10/dist-packages/numba_cuda/numba/cuda/dispatcher.py:579: NumbaPerformanceWarning: \u001b[1mGrid size 36 will likely result in GPU under-utilization due to low occupancy.\u001b[0m\n",
      "  warn(NumbaPerformanceWarning(msg))\n",
      "/usr/local/lib/python3.10/dist-packages/numba_cuda/numba/cuda/dispatcher.py:579: NumbaPerformanceWarning: \u001b[1mGrid size 45 will likely result in GPU under-utilization due to low occupancy.\u001b[0m\n",
      "  warn(NumbaPerformanceWarning(msg))\n",
      "/usr/local/lib/python3.10/dist-packages/numba_cuda/numba/cuda/dispatcher.py:579: NumbaPerformanceWarning: \u001b[1mGrid size 50 will likely result in GPU under-utilization due to low occupancy.\u001b[0m\n",
      "  warn(NumbaPerformanceWarning(msg))\n",
      "/usr/local/lib/python3.10/dist-packages/numba_cuda/numba/cuda/dispatcher.py:579: NumbaPerformanceWarning: \u001b[1mGrid size 32 will likely result in GPU under-utilization due to low occupancy.\u001b[0m\n",
      "  warn(NumbaPerformanceWarning(msg))\n",
      "/usr/local/lib/python3.10/dist-packages/numba_cuda/numba/cuda/dispatcher.py:579: NumbaPerformanceWarning: \u001b[1mGrid size 40 will likely result in GPU under-utilization due to low occupancy.\u001b[0m\n",
      "  warn(NumbaPerformanceWarning(msg))\n",
      "/usr/local/lib/python3.10/dist-packages/numba_cuda/numba/cuda/dispatcher.py:579: NumbaPerformanceWarning: \u001b[1mGrid size 6 will likely result in GPU under-utilization due to low occupancy.\u001b[0m\n",
      "  warn(NumbaPerformanceWarning(msg))\n",
      "/usr/local/lib/python3.10/dist-packages/numba/core/typed_passes.py:336: NumbaPerformanceWarning: \u001b[1m\n",
      "The keyword argument 'parallel=True' was specified but no transformation for parallel execution was possible.\n",
      "\n",
      "To find out why, try turning on parallel diagnostics, see https://numba.readthedocs.io/en/stable/user/parallel.html#diagnostics for help.\n",
      "\u001b[1m\n",
      "File \"../input/monodtr-library-ver2/MonoDTR/visualDet3D/evaluator/kitti/eval.py\", line 129:\u001b[0m\n",
      "\u001b[1m@numba.jit(nopython=True, parallel=True)\n",
      "\u001b[1mdef d3_box_overlap_kernel(boxes,\n",
      "\u001b[0m\u001b[1m^\u001b[0m\u001b[0m\n",
      "\u001b[0m\n",
      "  warnings.warn(errors.NumbaPerformanceWarning(msg,\n",
      "/usr/local/lib/python3.10/dist-packages/numba_cuda/numba/cuda/dispatcher.py:579: NumbaPerformanceWarning: \u001b[1mGrid size 45 will likely result in GPU under-utilization due to low occupancy.\u001b[0m\n",
      "  warn(NumbaPerformanceWarning(msg))\n",
      "/usr/local/lib/python3.10/dist-packages/numba_cuda/numba/cuda/dispatcher.py:579: NumbaPerformanceWarning: \u001b[1mGrid size 50 will likely result in GPU under-utilization due to low occupancy.\u001b[0m\n",
      "  warn(NumbaPerformanceWarning(msg))\n",
      "/usr/local/lib/python3.10/dist-packages/numba_cuda/numba/cuda/dispatcher.py:579: NumbaPerformanceWarning: \u001b[1mGrid size 36 will likely result in GPU under-utilization due to low occupancy.\u001b[0m\n",
      "  warn(NumbaPerformanceWarning(msg))\n",
      "/usr/local/lib/python3.10/dist-packages/numba_cuda/numba/cuda/dispatcher.py:579: NumbaPerformanceWarning: \u001b[1mGrid size 32 will likely result in GPU under-utilization due to low occupancy.\u001b[0m\n",
      "  warn(NumbaPerformanceWarning(msg))\n",
      "/usr/local/lib/python3.10/dist-packages/numba_cuda/numba/cuda/dispatcher.py:579: NumbaPerformanceWarning: \u001b[1mGrid size 40 will likely result in GPU under-utilization due to low occupancy.\u001b[0m\n",
      "  warn(NumbaPerformanceWarning(msg))\n",
      "/usr/local/lib/python3.10/dist-packages/numba_cuda/numba/cuda/dispatcher.py:579: NumbaPerformanceWarning: \u001b[1mGrid size 6 will likely result in GPU under-utilization due to low occupancy.\u001b[0m\n",
      "  warn(NumbaPerformanceWarning(msg))\n"
     ]
    },
    {
     "name": "stdout",
     "output_type": "stream",
     "text": [
      "Car AP(Average Precision)@0.70, 0.70, 0.70:\n",
      "bbox AP:94.08, 85.26, 73.36\n",
      "bev  AP:16.38, 11.40, 9.58\n",
      "3d   AP:10.55, 7.61, 6.18\n",
      "aos  AP:89.58, 79.50, 67.79\n",
      "Car AP(Average Precision)@0.70, 0.50, 0.50:\n",
      "bbox AP:94.08, 85.26, 73.36\n",
      "bev  AP:44.62, 33.82, 29.36\n",
      "3d   AP:39.80, 29.07, 24.93\n",
      "aos  AP:89.58, 79.50, 67.79\n",
      "\n",
      "/**** finish testing after training epoch 4 ******/\n"
     ]
    },
    {
     "name": "stderr",
     "output_type": "stream",
     "text": [
      "/usr/local/lib/python3.10/dist-packages/torch/utils/data/dataloader.py:617: UserWarning: This DataLoader will create 8 worker processes in total. Our suggested max number of worker in current system is 4, which is smaller than what this DataLoader is going to create. Please be aware that excessive worker creation might get DataLoader running slow or even freeze, lower the worker number to avoid potential slowness/freeze if necessary.\n",
      "  warnings.warn(\n"
     ]
    },
    {
     "name": "stdout",
     "output_type": "stream",
     "text": [
      "Epoch: 9 | Iteration: 3591  | Running loss: 0.16978 | eta:49.32h\r\n",
      "/**** start testing after training epoch 9 ******/\n",
      "clean up the recorder directory of /kaggle/working/MonoDTR/output/validation/data\n",
      "rebuild /kaggle/working/MonoDTR/output/validation/data\n"
     ]
    },
    {
     "name": "stderr",
     "output_type": "stream",
     "text": [
      "  0%|          | 0/3769 [00:00<?, ?it/s]/kaggle/input/monodtr-library-ver2/MonoDTR/visualDet3D/networks/pipelines/testers.py:24: UserWarning: To copy construct from a tensor, it is recommended to use sourceTensor.clone().detach() or sourceTensor.clone().detach().requires_grad_(True), rather than torch.tensor(sourceTensor).\n",
      "  scores, bbox, obj_index = module([images.cuda().float().contiguous(), torch.tensor(P2).cuda().float()])\n",
      "100%|██████████| 3769/3769 [13:49<00:00,  4.54it/s]\n"
     ]
    },
    {
     "name": "stdout",
     "output_type": "stream",
     "text": [
      "Car AP(Average Precision)@0.70, 0.70, 0.70:\n",
      "bbox AP:93.76, 85.17, 73.36\n",
      "bev  AP:17.02, 12.46, 10.52\n",
      "3d   AP:11.09, 7.95, 6.41\n",
      "aos  AP:89.38, 79.17, 67.61\n",
      "Car AP(Average Precision)@0.70, 0.50, 0.50:\n",
      "bbox AP:93.76, 85.17, 73.36\n",
      "bev  AP:47.19, 34.76, 30.19\n",
      "3d   AP:41.51, 30.07, 25.73\n",
      "aos  AP:89.38, 79.17, 67.61\n",
      "\n",
      "/**** finish testing after training epoch 9 ******/\n",
      "Epoch: 14 | Iteration: 3631  | Running loss: 0.16868 | eta:47.80h\r\n",
      "/**** start testing after training epoch 14 ******/\n",
      "clean up the recorder directory of /kaggle/working/MonoDTR/output/validation/data\n",
      "rebuild /kaggle/working/MonoDTR/output/validation/data\n"
     ]
    },
    {
     "name": "stderr",
     "output_type": "stream",
     "text": [
      "100%|██████████| 3769/3769 [13:51<00:00,  4.54it/s]\n",
      "/usr/local/lib/python3.10/dist-packages/numba_cuda/numba/cuda/dispatcher.py:579: NumbaPerformanceWarning: \u001b[1mGrid size 54 will likely result in GPU under-utilization due to low occupancy.\u001b[0m\n",
      "  warn(NumbaPerformanceWarning(msg))\n"
     ]
    },
    {
     "name": "stdout",
     "output_type": "stream",
     "text": [
      "Car AP(Average Precision)@0.70, 0.70, 0.70:\n",
      "bbox AP:94.07, 85.39, 73.44\n",
      "bev  AP:17.20, 12.51, 9.91\n",
      "3d   AP:11.11, 7.98, 6.40\n",
      "aos  AP:89.55, 79.48, 67.76\n",
      "Car AP(Average Precision)@0.70, 0.50, 0.50:\n",
      "bbox AP:94.07, 85.39, 73.44\n",
      "bev  AP:47.22, 34.71, 30.12\n",
      "3d   AP:41.93, 30.21, 25.73\n",
      "aos  AP:89.55, 79.48, 67.76\n",
      "\n",
      "/**** finish testing after training epoch 14 ******/\n"
     ]
    }
   ],
   "source": [
    "run_training()"
   ]
  }
 ],
 "metadata": {
  "kaggle": {
   "accelerator": "gpu",
   "dataSources": [
    {
     "datasetId": 1357458,
     "sourceId": 2255937,
     "sourceType": "datasetVersion"
    },
    {
     "datasetId": 7116330,
     "isSourceIdPinned": true,
     "sourceId": 11368341,
     "sourceType": "datasetVersion"
    },
    {
     "datasetId": 7365741,
     "sourceId": 11733251,
     "sourceType": "datasetVersion"
    },
    {
     "datasetId": 7381980,
     "sourceId": 12808421,
     "sourceType": "datasetVersion"
    },
    {
     "datasetId": 7110160,
     "isSourceIdPinned": true,
     "sourceId": 12735433,
     "sourceType": "datasetVersion"
    }
   ],
   "dockerImageVersionId": 30919,
   "isGpuEnabled": true,
   "isInternetEnabled": true,
   "language": "python",
   "sourceType": "notebook"
  },
  "kernelspec": {
   "display_name": "Python 3",
   "language": "python",
   "name": "python3"
  },
  "language_info": {
   "codemirror_mode": {
    "name": "ipython",
    "version": 3
   },
   "file_extension": ".py",
   "mimetype": "text/x-python",
   "name": "python",
   "nbconvert_exporter": "python",
   "pygments_lexer": "ipython3",
   "version": "3.10.12"
  },
  "papermill": {
   "default_parameters": {},
   "duration": 25470.893707,
   "end_time": "2025-08-19T21:55:01.427974",
   "environment_variables": {},
   "exception": null,
   "input_path": "__notebook__.ipynb",
   "output_path": "__notebook__.ipynb",
   "parameters": {},
   "start_time": "2025-08-19T14:50:30.534267",
   "version": "2.6.0"
  },
  "widgets": {
   "application/vnd.jupyter.widget-state+json": {
    "state": {
     "0e8a1cc3e7914f16bd2222619fbbe4dc": {
      "model_module": "@jupyter-widgets/controls",
      "model_module_version": "2.0.0",
      "model_name": "HTMLStyleModel",
      "state": {
       "_model_module": "@jupyter-widgets/controls",
       "_model_module_version": "2.0.0",
       "_model_name": "HTMLStyleModel",
       "_view_count": null,
       "_view_module": "@jupyter-widgets/base",
       "_view_module_version": "2.0.0",
       "_view_name": "StyleView",
       "background": null,
       "description_width": "",
       "font_size": null,
       "text_color": null
      }
     },
     "298349d0fe6c4be0b29f7a4081a21868": {
      "model_module": "@jupyter-widgets/controls",
      "model_module_version": "2.0.0",
      "model_name": "ProgressStyleModel",
      "state": {
       "_model_module": "@jupyter-widgets/controls",
       "_model_module_version": "2.0.0",
       "_model_name": "ProgressStyleModel",
       "_view_count": null,
       "_view_module": "@jupyter-widgets/base",
       "_view_module_version": "2.0.0",
       "_view_name": "StyleView",
       "bar_color": null,
       "description_width": ""
      }
     },
     "2b19f28e32ef42ffa3f90fb9b1547831": {
      "model_module": "@jupyter-widgets/controls",
      "model_module_version": "2.0.0",
      "model_name": "HTMLModel",
      "state": {
       "_dom_classes": [],
       "_model_module": "@jupyter-widgets/controls",
       "_model_module_version": "2.0.0",
       "_model_name": "HTMLModel",
       "_view_count": null,
       "_view_module": "@jupyter-widgets/controls",
       "_view_module_version": "2.0.0",
       "_view_name": "HTMLView",
       "description": "",
       "description_allow_html": false,
       "layout": "IPY_MODEL_9082dcbbf8b6478db5de3cd15f328293",
       "placeholder": "​",
       "style": "IPY_MODEL_64267a41ba2e4efb8fc645043532b67f",
       "tabbable": null,
       "tooltip": null,
       "value": "model.safetensors: 100%"
      }
     },
     "43f6e819083b41c897737c4bbfd52569": {
      "model_module": "@jupyter-widgets/controls",
      "model_module_version": "2.0.0",
      "model_name": "HBoxModel",
      "state": {
       "_dom_classes": [],
       "_model_module": "@jupyter-widgets/controls",
       "_model_module_version": "2.0.0",
       "_model_name": "HBoxModel",
       "_view_count": null,
       "_view_module": "@jupyter-widgets/controls",
       "_view_module_version": "2.0.0",
       "_view_name": "HBoxView",
       "box_style": "",
       "children": [
        "IPY_MODEL_2b19f28e32ef42ffa3f90fb9b1547831",
        "IPY_MODEL_8283b10e3d7d4a3eb8d07bf72dfbfe5a",
        "IPY_MODEL_c339ce64e95b4e9380a395fd2ce6a57c"
       ],
       "layout": "IPY_MODEL_636611719a734e2ca716ddccdbe6f0b4",
       "tabbable": null,
       "tooltip": null
      }
     },
     "636611719a734e2ca716ddccdbe6f0b4": {
      "model_module": "@jupyter-widgets/base",
      "model_module_version": "2.0.0",
      "model_name": "LayoutModel",
      "state": {
       "_model_module": "@jupyter-widgets/base",
       "_model_module_version": "2.0.0",
       "_model_name": "LayoutModel",
       "_view_count": null,
       "_view_module": "@jupyter-widgets/base",
       "_view_module_version": "2.0.0",
       "_view_name": "LayoutView",
       "align_content": null,
       "align_items": null,
       "align_self": null,
       "border_bottom": null,
       "border_left": null,
       "border_right": null,
       "border_top": null,
       "bottom": null,
       "display": null,
       "flex": null,
       "flex_flow": null,
       "grid_area": null,
       "grid_auto_columns": null,
       "grid_auto_flow": null,
       "grid_auto_rows": null,
       "grid_column": null,
       "grid_gap": null,
       "grid_row": null,
       "grid_template_areas": null,
       "grid_template_columns": null,
       "grid_template_rows": null,
       "height": null,
       "justify_content": null,
       "justify_items": null,
       "left": null,
       "margin": null,
       "max_height": null,
       "max_width": null,
       "min_height": null,
       "min_width": null,
       "object_fit": null,
       "object_position": null,
       "order": null,
       "overflow": null,
       "padding": null,
       "right": null,
       "top": null,
       "visibility": null,
       "width": null
      }
     },
     "64267a41ba2e4efb8fc645043532b67f": {
      "model_module": "@jupyter-widgets/controls",
      "model_module_version": "2.0.0",
      "model_name": "HTMLStyleModel",
      "state": {
       "_model_module": "@jupyter-widgets/controls",
       "_model_module_version": "2.0.0",
       "_model_name": "HTMLStyleModel",
       "_view_count": null,
       "_view_module": "@jupyter-widgets/base",
       "_view_module_version": "2.0.0",
       "_view_name": "StyleView",
       "background": null,
       "description_width": "",
       "font_size": null,
       "text_color": null
      }
     },
     "8283b10e3d7d4a3eb8d07bf72dfbfe5a": {
      "model_module": "@jupyter-widgets/controls",
      "model_module_version": "2.0.0",
      "model_name": "FloatProgressModel",
      "state": {
       "_dom_classes": [],
       "_model_module": "@jupyter-widgets/controls",
       "_model_module_version": "2.0.0",
       "_model_name": "FloatProgressModel",
       "_view_count": null,
       "_view_module": "@jupyter-widgets/controls",
       "_view_module_version": "2.0.0",
       "_view_name": "ProgressView",
       "bar_style": "success",
       "description": "",
       "description_allow_html": false,
       "layout": "IPY_MODEL_9dae6f99ea5d4e2f93a317bc789ddb7a",
       "max": 114286722.0,
       "min": 0.0,
       "orientation": "horizontal",
       "style": "IPY_MODEL_298349d0fe6c4be0b29f7a4081a21868",
       "tabbable": null,
       "tooltip": null,
       "value": 114286722.0
      }
     },
     "9082dcbbf8b6478db5de3cd15f328293": {
      "model_module": "@jupyter-widgets/base",
      "model_module_version": "2.0.0",
      "model_name": "LayoutModel",
      "state": {
       "_model_module": "@jupyter-widgets/base",
       "_model_module_version": "2.0.0",
       "_model_name": "LayoutModel",
       "_view_count": null,
       "_view_module": "@jupyter-widgets/base",
       "_view_module_version": "2.0.0",
       "_view_name": "LayoutView",
       "align_content": null,
       "align_items": null,
       "align_self": null,
       "border_bottom": null,
       "border_left": null,
       "border_right": null,
       "border_top": null,
       "bottom": null,
       "display": null,
       "flex": null,
       "flex_flow": null,
       "grid_area": null,
       "grid_auto_columns": null,
       "grid_auto_flow": null,
       "grid_auto_rows": null,
       "grid_column": null,
       "grid_gap": null,
       "grid_row": null,
       "grid_template_areas": null,
       "grid_template_columns": null,
       "grid_template_rows": null,
       "height": null,
       "justify_content": null,
       "justify_items": null,
       "left": null,
       "margin": null,
       "max_height": null,
       "max_width": null,
       "min_height": null,
       "min_width": null,
       "object_fit": null,
       "object_position": null,
       "order": null,
       "overflow": null,
       "padding": null,
       "right": null,
       "top": null,
       "visibility": null,
       "width": null
      }
     },
     "9dae6f99ea5d4e2f93a317bc789ddb7a": {
      "model_module": "@jupyter-widgets/base",
      "model_module_version": "2.0.0",
      "model_name": "LayoutModel",
      "state": {
       "_model_module": "@jupyter-widgets/base",
       "_model_module_version": "2.0.0",
       "_model_name": "LayoutModel",
       "_view_count": null,
       "_view_module": "@jupyter-widgets/base",
       "_view_module_version": "2.0.0",
       "_view_name": "LayoutView",
       "align_content": null,
       "align_items": null,
       "align_self": null,
       "border_bottom": null,
       "border_left": null,
       "border_right": null,
       "border_top": null,
       "bottom": null,
       "display": null,
       "flex": null,
       "flex_flow": null,
       "grid_area": null,
       "grid_auto_columns": null,
       "grid_auto_flow": null,
       "grid_auto_rows": null,
       "grid_column": null,
       "grid_gap": null,
       "grid_row": null,
       "grid_template_areas": null,
       "grid_template_columns": null,
       "grid_template_rows": null,
       "height": null,
       "justify_content": null,
       "justify_items": null,
       "left": null,
       "margin": null,
       "max_height": null,
       "max_width": null,
       "min_height": null,
       "min_width": null,
       "object_fit": null,
       "object_position": null,
       "order": null,
       "overflow": null,
       "padding": null,
       "right": null,
       "top": null,
       "visibility": null,
       "width": null
      }
     },
     "ac5b4413098f495cb74b9e05031d55e4": {
      "model_module": "@jupyter-widgets/base",
      "model_module_version": "2.0.0",
      "model_name": "LayoutModel",
      "state": {
       "_model_module": "@jupyter-widgets/base",
       "_model_module_version": "2.0.0",
       "_model_name": "LayoutModel",
       "_view_count": null,
       "_view_module": "@jupyter-widgets/base",
       "_view_module_version": "2.0.0",
       "_view_name": "LayoutView",
       "align_content": null,
       "align_items": null,
       "align_self": null,
       "border_bottom": null,
       "border_left": null,
       "border_right": null,
       "border_top": null,
       "bottom": null,
       "display": null,
       "flex": null,
       "flex_flow": null,
       "grid_area": null,
       "grid_auto_columns": null,
       "grid_auto_flow": null,
       "grid_auto_rows": null,
       "grid_column": null,
       "grid_gap": null,
       "grid_row": null,
       "grid_template_areas": null,
       "grid_template_columns": null,
       "grid_template_rows": null,
       "height": null,
       "justify_content": null,
       "justify_items": null,
       "left": null,
       "margin": null,
       "max_height": null,
       "max_width": null,
       "min_height": null,
       "min_width": null,
       "object_fit": null,
       "object_position": null,
       "order": null,
       "overflow": null,
       "padding": null,
       "right": null,
       "top": null,
       "visibility": null,
       "width": null
      }
     },
     "c339ce64e95b4e9380a395fd2ce6a57c": {
      "model_module": "@jupyter-widgets/controls",
      "model_module_version": "2.0.0",
      "model_name": "HTMLModel",
      "state": {
       "_dom_classes": [],
       "_model_module": "@jupyter-widgets/controls",
       "_model_module_version": "2.0.0",
       "_model_name": "HTMLModel",
       "_view_count": null,
       "_view_module": "@jupyter-widgets/controls",
       "_view_module_version": "2.0.0",
       "_view_name": "HTMLView",
       "description": "",
       "description_allow_html": false,
       "layout": "IPY_MODEL_ac5b4413098f495cb74b9e05031d55e4",
       "placeholder": "​",
       "style": "IPY_MODEL_0e8a1cc3e7914f16bd2222619fbbe4dc",
       "tabbable": null,
       "tooltip": null,
       "value": " 114M/114M [00:00&lt;00:00, 304MB/s]"
      }
     }
    },
    "version_major": 2,
    "version_minor": 0
   }
  }
 },
 "nbformat": 4,
 "nbformat_minor": 5
}
